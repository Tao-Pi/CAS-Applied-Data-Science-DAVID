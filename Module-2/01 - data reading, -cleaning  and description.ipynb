{
 "cells": [
  {
   "cell_type": "markdown",
   "metadata": {
    "application/vnd.databricks.v1+cell": {
     "cellMetadata": {
      "byteLimit": 2048000,
      "rowLimit": 10000
     },
     "inputWidgets": {},
     "nuid": "c080c799-037f-45b0-bdee-d0989464b187",
     "showTitle": false,
     "tableResultSettingsMap": {},
     "title": ""
    }
   },
   "source": [
    "\n",
    "# 1. Data reading"
   ]
  },
  {
   "cell_type": "code",
   "execution_count": 0,
   "metadata": {
    "application/vnd.databricks.v1+cell": {
     "cellMetadata": {},
     "inputWidgets": {},
     "nuid": "82fc81c0-79e8-4439-a533-fe8d416eb993",
     "showTitle": false,
     "tableResultSettingsMap": {},
     "title": ""
    }
   },
   "outputs": [],
   "source": []
  },
  {
   "cell_type": "markdown",
   "metadata": {
    "application/vnd.databricks.v1+cell": {
     "cellMetadata": {
      "byteLimit": 2048000,
      "rowLimit": 10000
     },
     "inputWidgets": {},
     "nuid": "2bdeba03-50eb-426b-8ed6-22da94d9fa64",
     "showTitle": false,
     "tableResultSettingsMap": {},
     "title": ""
    }
   },
   "source": [
    "- reading the \"Pigments\" Dataset, provided in an emial"
   ]
  },
  {
   "cell_type": "markdown",
   "metadata": {
    "application/vnd.databricks.v1+cell": {
     "cellMetadata": {
      "byteLimit": 2048000,
      "rowLimit": 10000
     },
     "inputWidgets": {},
     "nuid": "dd906017-bc3c-403e-9833-dcd189b447bc",
     "showTitle": false,
     "tableResultSettingsMap": {},
     "title": ""
    }
   },
   "source": [
    "First load the libraries / modules."
   ]
  },
  {
   "cell_type": "code",
   "execution_count": 0,
   "metadata": {
    "application/vnd.databricks.v1+cell": {
     "cellMetadata": {
      "byteLimit": 2048000,
      "rowLimit": 10000
     },
     "inputWidgets": {},
     "nuid": "05ff6b26-c729-4827-963e-21120b6c47ca",
     "showTitle": false,
     "tableResultSettingsMap": {},
     "title": ""
    }
   },
   "outputs": [],
   "source": [
    "# Load the needed python libraries by executing this python code (press ctrl enter)\n",
    "import numpy as np\n",
    "import scipy.stats\n",
    "import matplotlib.pyplot as plt\n",
    "import pandas as pd"
   ]
  },
  {
   "cell_type": "markdown",
   "metadata": {
    "application/vnd.databricks.v1+cell": {
     "cellMetadata": {
      "byteLimit": 2048000,
      "rowLimit": 10000
     },
     "inputWidgets": {},
     "nuid": "e4536435-1a56-4f66-8b81-a8563b0de6ac",
     "showTitle": false,
     "tableResultSettingsMap": {},
     "title": ""
    }
   },
   "source": [
    "Load the dataset into a dataframe."
   ]
  },
  {
   "cell_type": "code",
   "execution_count": 0,
   "metadata": {
    "application/vnd.databricks.v1+cell": {
     "cellMetadata": {
      "byteLimit": 2048000,
      "rowLimit": 10000
     },
     "inputWidgets": {},
     "nuid": "3068ccd4-26ef-487e-ae99-b8958ecce1a4",
     "showTitle": false,
     "tableResultSettingsMap": {},
     "title": ""
    }
   },
   "outputs": [],
   "source": [
    "import pandas as pd\n",
    "\n",
    "# URL zur Datei (GitHub)\n",
    "url = \"https://raw.githubusercontent.com/Tao-Pi/CAS-Applied-Data-Science-DAVID/refs/heads/main/Module-2/Pigments_Version202509051820.csv\"\n",
    "\n",
    "# CSV einlesen und leere Zeilen überspringen\n",
    "df = pd.read_csv(url, skip_blank_lines=True)\n",
    "\n",
    "# Ausgabe prüfen\n",
    "print(df.head())\n",
    "print(f\"\\nShape: {df.shape}\")\n"
   ]
  },
  {
   "cell_type": "markdown",
   "metadata": {
    "application/vnd.databricks.v1+cell": {
     "cellMetadata": {
      "byteLimit": 2048000,
      "rowLimit": 10000
     },
     "inputWidgets": {},
     "nuid": "da411ef1-d9b3-4e32-a613-ec6a081d8462",
     "showTitle": false,
     "tableResultSettingsMap": {},
     "title": ""
    }
   },
   "source": [
    "Browse through all rows."
   ]
  },
  {
   "cell_type": "code",
   "execution_count": 0,
   "metadata": {
    "application/vnd.databricks.v1+cell": {
     "cellMetadata": {
      "byteLimit": 2048000,
      "rowLimit": 10000
     },
     "inputWidgets": {},
     "nuid": "cda211cc-aabe-485f-ae3b-7f23c2c1ffd4",
     "showTitle": false,
     "tableResultSettingsMap": {},
     "title": ""
    }
   },
   "outputs": [],
   "source": [
    "pd.set_option('display.max_rows', 200)\n",
    "df"
   ]
  },
  {
   "cell_type": "markdown",
   "metadata": {
    "application/vnd.databricks.v1+cell": {
     "cellMetadata": {
      "byteLimit": 2048000,
      "rowLimit": 10000
     },
     "inputWidgets": {},
     "nuid": "fc8ffbb7-e0f1-4165-bb2f-02e0d08e4a47",
     "showTitle": false,
     "tableResultSettingsMap": {},
     "title": ""
    }
   },
   "source": [
    "change col names to more descriptive names"
   ]
  },
  {
   "cell_type": "code",
   "execution_count": 0,
   "metadata": {
    "application/vnd.databricks.v1+cell": {
     "cellMetadata": {
      "byteLimit": 2048000,
      "rowLimit": 10000
     },
     "inputWidgets": {},
     "nuid": "e3f264db-86e5-48e9-ae92-b028b421a3e8",
     "showTitle": false,
     "tableResultSettingsMap": {},
     "title": ""
    }
   },
   "outputs": [],
   "source": [
    "df.rename(columns={\n",
    "    'name': 'sample',\n",
    "    'RABD670': 'green pigments: index',\n",
    "    'TChl-a': 'green pigments: direct concentration measurement (ug/g)',\n",
    "    'locality': 'locality',\n",
    "    'OC': 'organic carbon content in %'\n",
    "}, inplace=True)\n",
    "df"
   ]
  },
  {
   "cell_type": "markdown",
   "metadata": {
    "application/vnd.databricks.v1+cell": {
     "cellMetadata": {
      "byteLimit": 2048000,
      "rowLimit": 10000
     },
     "inputWidgets": {},
     "nuid": "dee6572e-daef-43ad-b64b-7ac98c99c735",
     "showTitle": false,
     "tableResultSettingsMap": {},
     "title": ""
    }
   },
   "source": [
    "Print some descriptive statistics, using pandas summary."
   ]
  },
  {
   "cell_type": "code",
   "execution_count": 0,
   "metadata": {
    "application/vnd.databricks.v1+cell": {
     "cellMetadata": {
      "byteLimit": 2048000,
      "rowLimit": 10000
     },
     "inputWidgets": {},
     "nuid": "d4af46b6-6c39-4a8c-85c0-97e0d07705f2",
     "showTitle": false,
     "tableResultSettingsMap": {},
     "title": ""
    }
   },
   "outputs": [],
   "source": [
    "df.describe()"
   ]
  },
  {
   "cell_type": "markdown",
   "metadata": {
    "application/vnd.databricks.v1+cell": {
     "cellMetadata": {},
     "inputWidgets": {},
     "nuid": "5dc50b6e-9ad4-4d12-bafe-28d3f99214ec",
     "showTitle": false,
     "tableResultSettingsMap": {},
     "title": ""
    }
   },
   "source": [
    "# 02 Descriptive Stats"
   ]
  },
  {
   "cell_type": "code",
   "execution_count": 0,
   "metadata": {
    "application/vnd.databricks.v1+cell": {
     "cellMetadata": {
      "byteLimit": 2048000,
      "rowLimit": 10000
     },
     "inputWidgets": {},
     "nuid": "bb5d7f9b-d37c-453e-a5bb-94707e975d6e",
     "showTitle": false,
     "tableResultSettingsMap": {},
     "title": ""
    }
   },
   "outputs": [],
   "source": [
    "# === Descriptive statistics & plots for:\n",
    "#     - \"green pigments: index\"\n",
    "#     - \"green pigments: direct concentration measurement (ug/g)\"\n",
    "# Append this block AFTER your df.rename(...) and df.describe().\n",
    "\n",
    "from scipy import stats  # already imported as scipy.stats; this just gives 'stats' alias if needed\n",
    "\n",
    "# Column aliases (matches your renamed columns)\n",
    "col_x = \"green pigments: index\"\n",
    "col_y = \"green pigments: direct concentration measurement (ug/g)\"\n",
    "\n",
    "# Pairwise-clean data\n",
    "df_pair = df.dropna(subset=[col_x, col_y]).copy()\n",
    "\n",
    "# ---------- Descriptive statistics ----------\n",
    "def describe_series(s: pd.Series) -> pd.Series:\n",
    "    s_clean = s.dropna()\n",
    "    out = pd.Series(dtype=\"float64\")\n",
    "    out[\"count\"] = s_clean.shape[0]\n",
    "    out[\"missing\"] = s.shape[0] - s_clean.shape[0]\n",
    "    out[\"missing_%\"] = 100 * (1 - s_clean.shape[0] / s.shape[0]) if s.shape[0] else float(\"nan\")\n",
    "    out[\"mean\"] = s_clean.mean()\n",
    "    out[\"std\"] = s_clean.std(ddof=1)\n",
    "    out[\"cv (std/mean)\"] = (out[\"std\"] / out[\"mean\"]) if out[\"mean\"] not in (0, None) else float(\"nan\")\n",
    "    out[\"min\"] = s_clean.min()\n",
    "    out[\"q1\"] = s_clean.quantile(0.25)\n",
    "    out[\"median\"] = s_clean.median()\n",
    "    out[\"q3\"] = s_clean.quantile(0.75)\n",
    "    out[\"iqr\"] = out[\"q3\"] - out[\"q1\"]\n",
    "    out[\"max\"] = s_clean.max()\n",
    "    out[\"skewness\"] = stats.skew(s_clean, bias=False)\n",
    "    out[\"kurtosis (excess)\"] = stats.kurtosis(s_clean, fisher=True, bias=False)\n",
    "    if 3 <= len(s_clean) <= 5000:\n",
    "        W, p = stats.shapiro(s_clean)\n",
    "        out[\"shapiro_W\"] = W\n",
    "        out[\"shapiro_p\"] = p\n",
    "    else:\n",
    "        out[\"shapiro_W\"] = float(\"nan\")\n",
    "        out[\"shapiro_p\"] = float(\"nan\")\n",
    "    return out\n",
    "\n",
    "desc_table = pd.DataFrame({\n",
    "    col_x: describe_series(df[col_x]),\n",
    "    col_y: describe_series(df[col_y]),\n",
    "})\n",
    "print(\"\\n=== Descriptive statistics ===\")\n",
    "print(desc_table.round(4))\n",
    "\n",
    "# ---------- Correlation tests ----------\n",
    "pearson_r, pearson_p = stats.pearsonr(df_pair[col_x], df_pair[col_y])\n",
    "spearman_r, spearman_p = stats.spearmanr(df_pair[col_x], df_pair[col_y])\n",
    "kendall_tau, kendall_p = stats.kendalltau(df_pair[col_x], df_pair[col_y])\n",
    "\n",
    "corr_tbl = pd.DataFrame(\n",
    "    {\n",
    "        \"statistic\": [\"Pearson r\", \"Spearman ρ\", \"Kendall τ\"],\n",
    "        \"value\": [pearson_r, spearman_r, kendall_tau],\n",
    "        \"p_value\": [pearson_p, spearman_p, kendall_p],\n",
    "    }\n",
    ")\n",
    "print(\"\\n=== Correlation tests (pairwise complete) ===\")\n",
    "print(corr_tbl.round(6))\n",
    "\n",
    "\n"
   ]
  },
  {
   "cell_type": "code",
   "execution_count": 0,
   "metadata": {
    "application/vnd.databricks.v1+cell": {
     "cellMetadata": {
      "byteLimit": 2048000,
      "rowLimit": 10000
     },
     "inputWidgets": {},
     "nuid": "b6da0bf2-d91c-41b8-b307-6f22e28994f7",
     "showTitle": false,
     "tableResultSettingsMap": {},
     "title": ""
    }
   },
   "outputs": [],
   "source": [
    "# === Plot 01: Histogram and box plot for the measures of pigments\n",
    "#     (Index and Direct concentration measurement of green pigments (µg/g)) in different samples\n",
    "\n",
    "# cm to inches conversion\n",
    "cm_to_inch = 1/2.54\n",
    "fig_width = 24.2 * cm_to_inch\n",
    "fig_height = 10.08 * cm_to_inch\n",
    "\n",
    "fig, axes = plt.subplots(2, 2, figsize=(fig_width, fig_height))\n",
    "fig.suptitle(\n",
    "    \"Plot 01: Histogram and box plot for the measures of pigments\\n\"\n",
    "    \"(Index and Direct concentration measurement of green pigments (µg/g)) in different samples\",\n",
    "    fontsize=11,\n",
    "    weight=\"bold\"\n",
    ")\n",
    "\n",
    "col_x = \"green pigments: index\"\n",
    "col_y = \"green pigments: direct concentration measurement (ug/g)\"\n",
    "\n",
    "# Histogram for index\n",
    "axes[0,0].hist(df[col_x].dropna(), bins=20)\n",
    "axes[0,0].set_title(\"Histogram: Green pigments index\", fontsize=9)\n",
    "axes[0,0].set_xlabel(col_x, fontsize=8)\n",
    "axes[0,0].set_ylabel(\"Frequency\", fontsize=8)\n",
    "\n",
    "# Boxplot for index\n",
    "axes[1,0].boxplot(df[col_x].dropna(), vert=True)\n",
    "axes[1,0].set_title(\"Boxplot: Green pigments index\", fontsize=9)\n",
    "axes[1,0].set_ylabel(col_x, fontsize=8)\n",
    "\n",
    "# Histogram for direct concentration\n",
    "axes[0,1].hist(df[col_y].dropna(), bins=20)\n",
    "axes[0,1].set_title(\"Histogram: Direct chlorophyll concentration (µg/g)\", fontsize=9)\n",
    "axes[0,1].set_xlabel(col_y, fontsize=8)\n",
    "axes[0,1].set_ylabel(\"Frequency\", fontsize=8)\n",
    "\n",
    "# Boxplot for direct concentration\n",
    "axes[1,1].boxplot(df[col_y].dropna(), vert=True)\n",
    "axes[1,1].set_title(\"Boxplot: Direct chlorophyll concentration (µg/g)\", fontsize=9)\n",
    "axes[1,1].set_ylabel(col_y, fontsize=8)\n",
    "\n",
    "plt.tight_layout(rect=[0, 0.05, 1, 0.95])\n",
    "plt.show()\n"
   ]
  },
  {
   "cell_type": "markdown",
   "metadata": {
    "application/vnd.databricks.v1+cell": {
     "cellMetadata": {},
     "inputWidgets": {},
     "nuid": "a3fd7e2d-e362-4f60-a685-e95a9b9899df",
     "showTitle": false,
     "tableResultSettingsMap": {},
     "title": ""
    }
   },
   "source": [
    "# Hypotheses\n",
    "# \n",
    "**H₀ (Null Hypothesis)**: The green pigment index and the direct chlorophyll concentration are not correlated.\n",
    "\n",
    "**H₁ (Alternative Hypothesis)**: There is a statistically significant correlation between the pigment index and the direct chlorophyll concentration."
   ]
  },
  {
   "cell_type": "code",
   "execution_count": 0,
   "metadata": {
    "application/vnd.databricks.v1+cell": {
     "cellMetadata": {
      "byteLimit": 2048000,
      "rowLimit": 10000
     },
     "inputWidgets": {},
     "nuid": "6fab83d6-0541-4e8d-bc1f-c6255a11e49d",
     "showTitle": false,
     "tableResultSettingsMap": {},
     "title": ""
    }
   },
   "outputs": [],
   "source": [
    "import scipy.stats as stats# Drop missing values for the test\n",
    "\n",
    "df_clean = df.dropna(subset=[\n",
    "    \"green pigments: index\",\n",
    "    \"green pigments: direct concentration measurement (ug/g)\"\n",
    "])\n",
    "\n",
    "# Define variables\n",
    "x = df_clean[\"green pigments: index\"]\n",
    "y = df_clean[\"green pigments: direct concentration measurement (ug/g)\"]\n",
    "\n",
    "# Hypothesis test: Pearson correlation\n",
    "corr, p_value = stats.pearsonr(x, y)\n",
    "\n",
    "print(\"Pearson correlation coefficient:\", corr)\n",
    "print(\"p-value:\", p_value)\n",
    "\n",
    "# Interpret the result\n",
    "alpha = 0.05\n",
    "if p_value < alpha:\n",
    "    print(\"Reject H0: There is a significant correlation.\")\n",
    "else:\n",
    "    print(\"Fail to reject H0: No significant correlation.\")\n",
    "\n",
    "# Visualization\n",
    "plt.scatter(x, y, alpha=0.7)\n",
    "plt.xlabel(\"index\")\n",
    "plt.ylabel(\"direct concentration measurement (µg/g)\")\n",
    "plt.title(\"Relationship between pigment index and direct concentration measurement\")\n",
    "\n",
    "# Add regression line\n",
    "slope, intercept, r_value, p_val, std_err = stats.linregress(x, y)\n",
    "plt.plot(x, slope*x + intercept, color=\"red\", label=f\"Linear fit (R²={r_value**2:.2f})\")\n",
    "plt.legend()\n",
    "plt.show()"
   ]
  },
  {
   "cell_type": "code",
   "execution_count": 0,
   "metadata": {
    "application/vnd.databricks.v1+cell": {
     "cellMetadata": {
      "byteLimit": 2048000,
      "rowLimit": 10000
     },
     "inputWidgets": {},
     "nuid": "de23f729-276b-4677-a176-8781e97271d1",
     "showTitle": false,
     "tableResultSettingsMap": {},
     "title": ""
    }
   },
   "outputs": [],
   "source": [
    "plt.scatter(df['green pigments: index'], df['green pigments: direct concentration measurement (ug/g)'])\n",
    "plt.xlabel('index')\n",
    "plt.ylabel('direct concentration measurement (ug/g)')\n",
    "plt.title('Scatter plot of green pigments: index vs. green pigments: direct concentration measurement (ug/g)')\n",
    "plt.show()"
   ]
  },
  {
   "cell_type": "markdown",
   "metadata": {
    "application/vnd.databricks.v1+cell": {
     "cellMetadata": {
      "byteLimit": 2048000,
      "rowLimit": 10000
     },
     "inputWidgets": {},
     "nuid": "d052637a-d67f-4d2c-b67b-dabd2c3a3985",
     "showTitle": false,
     "tableResultSettingsMap": {},
     "title": ""
    }
   },
   "source": [
    "Calculate the sample variance."
   ]
  },
  {
   "cell_type": "code",
   "execution_count": 0,
   "metadata": {
    "application/vnd.databricks.v1+cell": {
     "cellMetadata": {
      "byteLimit": 2048000,
      "rowLimit": 10000
     },
     "inputWidgets": {},
     "nuid": "45d7001f-2918-4274-86ba-e4b425c1af9a",
     "showTitle": false,
     "tableResultSettingsMap": {},
     "title": ""
    }
   },
   "outputs": [],
   "source": [
    "df.var()"
   ]
  },
  {
   "cell_type": "markdown",
   "metadata": {
    "application/vnd.databricks.v1+cell": {
     "cellMetadata": {
      "byteLimit": 2048000,
      "rowLimit": 10000
     },
     "inputWidgets": {},
     "nuid": "51968fb8-dbcc-4d06-b106-a7398532c998",
     "showTitle": false,
     "tableResultSettingsMap": {},
     "title": ""
    }
   },
   "source": [
    "Calculate the skewness and the kurtosis."
   ]
  },
  {
   "cell_type": "code",
   "execution_count": 0,
   "metadata": {
    "application/vnd.databricks.v1+cell": {
     "cellMetadata": {
      "byteLimit": 2048000,
      "rowLimit": 10000
     },
     "inputWidgets": {},
     "nuid": "b88cc298-2405-4ed7-9ef5-fa1c700933af",
     "showTitle": false,
     "tableResultSettingsMap": {},
     "title": ""
    }
   },
   "outputs": [],
   "source": [
    "df.kurt()"
   ]
  },
  {
   "cell_type": "code",
   "execution_count": 0,
   "metadata": {
    "application/vnd.databricks.v1+cell": {
     "cellMetadata": {
      "byteLimit": 2048000,
      "rowLimit": 10000
     },
     "inputWidgets": {},
     "nuid": "288b8f03-75c5-498f-bdfe-971d85f3b256",
     "showTitle": false,
     "tableResultSettingsMap": {},
     "title": ""
    }
   },
   "outputs": [],
   "source": [
    "df.skew()"
   ]
  },
  {
   "cell_type": "markdown",
   "metadata": {
    "application/vnd.databricks.v1+cell": {
     "cellMetadata": {
      "byteLimit": 2048000,
      "rowLimit": 10000
     },
     "inputWidgets": {},
     "nuid": "90801e0d-3ad8-47a5-8432-5e4b719ffb71",
     "showTitle": false,
     "tableResultSettingsMap": {},
     "title": ""
    }
   },
   "source": [
    "Calculate and print correlation and covariance matrix. "
   ]
  },
  {
   "cell_type": "code",
   "execution_count": 0,
   "metadata": {
    "application/vnd.databricks.v1+cell": {
     "cellMetadata": {
      "byteLimit": 2048000,
      "rowLimit": 10000
     },
     "inputWidgets": {},
     "nuid": "8323c477-5669-4dca-b43a-d85c9f7532b3",
     "showTitle": false,
     "tableResultSettingsMap": {},
     "title": ""
    }
   },
   "outputs": [],
   "source": [
    "df.cov()"
   ]
  },
  {
   "cell_type": "code",
   "execution_count": 0,
   "metadata": {
    "application/vnd.databricks.v1+cell": {
     "cellMetadata": {
      "byteLimit": 2048000,
      "rowLimit": 10000
     },
     "inputWidgets": {},
     "nuid": "be222f7b-6bf3-4017-ad7e-539f47a37d16",
     "showTitle": false,
     "tableResultSettingsMap": {},
     "title": ""
    }
   },
   "outputs": [],
   "source": [
    "df.corr()"
   ]
  },
  {
   "cell_type": "markdown",
   "metadata": {
    "application/vnd.databricks.v1+cell": {
     "cellMetadata": {
      "byteLimit": 2048000,
      "rowLimit": 10000
     },
     "inputWidgets": {},
     "nuid": "2594ff47-8a95-43eb-907b-421e9765234b",
     "showTitle": false,
     "tableResultSettingsMap": {},
     "title": ""
    }
   },
   "source": [
    "Study and comment these numbers."
   ]
  },
  {
   "cell_type": "markdown",
   "metadata": {
    "application/vnd.databricks.v1+cell": {
     "cellMetadata": {
      "byteLimit": 2048000,
      "rowLimit": 10000
     },
     "inputWidgets": {},
     "nuid": "a2b45371-9b26-420f-8bdf-50d0066476d8",
     "showTitle": false,
     "tableResultSettingsMap": {},
     "title": ""
    }
   },
   "source": [
    "Now we have done our descriptive statistics in numbers and tables. Now let us do it with plots. First the histograms."
   ]
  },
  {
   "cell_type": "markdown",
   "metadata": {
    "application/vnd.databricks.v1+cell": {
     "cellMetadata": {
      "byteLimit": 2048000,
      "rowLimit": 10000
     },
     "inputWidgets": {},
     "nuid": "aeff44bb-766e-4dc5-a24b-904d3af66fa0",
     "showTitle": false,
     "tableResultSettingsMap": {},
     "title": ""
    }
   },
   "source": [
    "Scatter plots."
   ]
  },
  {
   "cell_type": "code",
   "execution_count": 0,
   "metadata": {
    "application/vnd.databricks.v1+cell": {
     "cellMetadata": {
      "byteLimit": 2048000,
      "rowLimit": 10000
     },
     "inputWidgets": {},
     "nuid": "1afefb84-4d79-4ab1-ba26-88c469e38a65",
     "showTitle": false,
     "tableResultSettingsMap": {},
     "title": ""
    }
   },
   "outputs": [],
   "source": [
    "# https://pandas.pydata.org/pandas-docs/stable/generated/pandas.plotting.scatter_matrix.html\n",
    "from pandas.plotting import scatter_matrix\n",
    "scatter_matrix(df, alpha=0.2, figsize=(6, 6), diagonal='hist')\n",
    "plt.show()"
   ]
  },
  {
   "cell_type": "markdown",
   "metadata": {
    "application/vnd.databricks.v1+cell": {
     "cellMetadata": {
      "byteLimit": 2048000,
      "rowLimit": 10000
     },
     "inputWidgets": {},
     "nuid": "d6f95495-15de-4beb-b1e3-2357f3fe57f0",
     "showTitle": false,
     "tableResultSettingsMap": {},
     "title": ""
    }
   },
   "source": [
    "Now we have studied our data with descriptive statistics. Before we can do the statistical inference, we want to make a model for our data. \n",
    "\n",
    "Let us start with the setal length of the Setosa species. It looks like a normal distribution so we choose that as a model. When we come to Hypothesis Testing, we will see how to test it mathematically. \n",
    "\n",
    "Our model will be a normal distribution with the mean and width taken from the dataset: **norm.pdf(x,mean,width)**. "
   ]
  },
  {
   "cell_type": "code",
   "execution_count": 0,
   "metadata": {
    "application/vnd.databricks.v1+cell": {
     "cellMetadata": {
      "byteLimit": 2048000,
      "rowLimit": 10000
     },
     "inputWidgets": {},
     "nuid": "9ad26f86-ad65-435a-833a-a3bbead15c01",
     "showTitle": false,
     "tableResultSettingsMap": {},
     "title": ""
    }
   },
   "outputs": [],
   "source": [
    "from scipy.stats import norm\n",
    "mean  = df_setosa['slength'].mean()\n",
    "width = df_setosa['slength'].std()\n",
    "print(mean,width)\n",
    "# Create figure and axis\n",
    "fig, ax = plt.subplots(1,1)\n",
    "# Create 100 x values and plot the normal pdf for these values\n",
    "#x = np.linspace(norm.ppf(0.01),norm.ppf(0.99), 100)\n",
    "x = np.linspace(3,7,80)\n",
    "ax.plot(x, norm.pdf(x,mean,width),'b-', lw=2, label='Normed pdf')\n",
    "df_setosa['slength'].plot(kind=\"hist\",fill=False,histtype='step',title='Iris Setosa Setal', label=\"length\", density=\"True\")\n",
    "ax.legend(loc='best', frameon=False)\n",
    "plt.show()"
   ]
  },
  {
   "cell_type": "markdown",
   "metadata": {
    "application/vnd.databricks.v1+cell": {
     "cellMetadata": {
      "byteLimit": 2048000,
      "rowLimit": 10000
     },
     "inputWidgets": {},
     "nuid": "5c74a949-9a9f-463f-9361-d9fb12ebae6c",
     "showTitle": false,
     "tableResultSettingsMap": {},
     "title": ""
    }
   },
   "source": [
    "With our model we could now do a lot of inference. Taking a random leave, one could for example test how likely it is to be Iris Setosa.\n",
    "\n",
    "More for you to practise in the afternoon notebook."
   ]
  },
  {
   "cell_type": "code",
   "execution_count": 0,
   "metadata": {
    "application/vnd.databricks.v1+cell": {
     "cellMetadata": {
      "byteLimit": 2048000,
      "rowLimit": 10000
     },
     "inputWidgets": {},
     "nuid": "b195da3b-28ca-478b-93c8-32db1e874048",
     "showTitle": false,
     "tableResultSettingsMap": {},
     "title": ""
    }
   },
   "outputs": [],
   "source": [
    "#norm.pdf(5,mean,width)\n",
    "norm.cdf(4,mean,width)"
   ]
  }
 ],
 "metadata": {
  "application/vnd.databricks.v1+notebook": {
   "computePreferences": null,
   "dashboards": [],
   "environmentMetadata": null,
   "inputWidgetPreferences": null,
   "language": "python",
   "notebookMetadata": {
    "pythonIndentUnit": 4
   },
   "notebookName": "01 - data reading, -cleaning  and description",
   "widgets": {}
  },
  "kernelspec": {
   "display_name": "Python 3",
   "language": "python",
   "name": "python3"
  },
  "language_info": {
   "name": "python"
  }
 },
 "nbformat": 4,
 "nbformat_minor": 0
}
