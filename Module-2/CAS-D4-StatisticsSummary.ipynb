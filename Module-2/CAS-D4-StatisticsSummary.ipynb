{
 "cells": [
  {
   "cell_type": "markdown",
   "metadata": {
    "application/vnd.databricks.v1+cell": {
     "cellMetadata": {},
     "inputWidgets": {},
     "nuid": "41398b18-7de6-41e4-856a-fb200bee6f9b",
     "showTitle": false,
     "tableResultSettingsMap": {},
     "title": ""
    }
   },
   "source": [
    "Notebook 4, Module 2, Statistical Inference for Data Science, CAS Applied Data Science, 2019-08-30, G. Conti, S. Haug, University of Bern."
   ]
  },
  {
   "cell_type": "markdown",
   "metadata": {
    "application/vnd.databricks.v1+cell": {
     "cellMetadata": {},
     "inputWidgets": {},
     "nuid": "be2cb8e3-82b6-4c7c-860e-95de249b0485",
     "showTitle": false,
     "tableResultSettingsMap": {},
     "title": ""
    }
   },
   "source": [
    "## Project work Module 2\n",
    "\n",
    "This is my project work for Module 2. Plots, numbers and tables for the poster is produced with this Notebook.\n",
    "\n",
    "The data used is the Iris data set. Available here:\n",
    "https://archive.ics.uci.edu/ml/datasets/iris\n",
    "\n",
    "**Outline of the data analysis** 3x45 min (depending on your background)\n",
    "\n",
    "- Introduction (situation and goal)\n",
    "- Descriptive part\n",
    "- Data filtering with efficiency from fitted models\n",
    "- Hypothesis testing\n",
    "- Conclusions\n"
   ]
  },
  {
   "cell_type": "markdown",
   "metadata": {
    "application/vnd.databricks.v1+cell": {
     "cellMetadata": {},
     "inputWidgets": {},
     "nuid": "df06ec85-72e5-47b3-85b8-bcc5dcbd958d",
     "showTitle": false,
     "tableResultSettingsMap": {},
     "title": ""
    }
   },
   "source": [
    "## 1. Introduction\n",
    "\n",
    "I am in court as a data science expert. My task is to give advice to the judges. I will have 15 minutes time and plan to bring a poster for the presentation. This way court participants can also look at it in the breaks.\n",
    "\n",
    "**Situation (fictional):**\n",
    "\n",
    "Some new company v4Setosa recently sequenced the genes of the Iris species Setosa and patented it, apparently in order to preserve this species because it is so beautiful. Due this patent it is not allowed to change the plant.\n",
    "\n",
    "A big farmer and hater of Iris and with a field where Iris is a disturbing weed, has been using a new product from Sonte Manto for a couple of years. The product is supposed to effectively kill Iris plants.\n",
    "\n",
    "A big Iris lover collected a sample of Iris plants from the farmer's field and thinks the Iris Setosa setal leaves are bigger than normal. She sent the sample to v4setosa, which in turn came to the conclusion that Setosa must have mutated due to the product from Sonte Manto. \n",
    "\n",
    "So w4setosa sued Sonte Manto with the claim that they have changed the plant with their product. Sonte Manto may risk to pay a billion dollars. The court has asked me to give a neutral and scientific advice. \n",
    "\n",
    "**Data Analysis**\n",
    "\n",
    "- Data collection\n",
    "    - Request a larger Iris sample from a field far away from the farmer -dataset 0. The data is labeled as the local collector had separate greenhouses for each species.\n",
    "    - Request a Iris sample from the farmer (collected by some neutral person) - dataset 1. The data is a random mix of all species\n",
    "- Description of the data\n",
    "    - Calculate means, variances and correlations\n",
    "    - Test normality\n",
    "    - Choose good plots\n",
    "- Find by **regression** a good way to filter out setosa in the farmer sample (increases the the power of the final test)\n",
    "- Add a **test** to the filtered sample, checking if the farmer setosa leaves differ significantly from the reference sample\n",
    "- Conclude\n",
    "- (Additionally **exclude** all mutation hypotheses not compatible with this experiment)\n",
    "\n",
    "\n",
    "\n",
    "\n"
   ]
  },
  {
   "cell_type": "markdown",
   "metadata": {
    "application/vnd.databricks.v1+cell": {
     "cellMetadata": {},
     "inputWidgets": {},
     "nuid": "c967af3f-3e70-40fc-948f-0cde87d1d57b",
     "showTitle": false,
     "tableResultSettingsMap": {},
     "title": ""
    }
   },
   "source": [
    "**Definition of significant**\n",
    "\n",
    "We consider p-values below 0.001 as unlikely enough to reject the fluctuation hypothesis. We will for such values advice the court to consider it as a mutation. (This is a weak point that the laywers of Sonte Manto will of course attack.) "
   ]
  },
  {
   "cell_type": "markdown",
   "metadata": {
    "application/vnd.databricks.v1+cell": {
     "cellMetadata": {},
     "inputWidgets": {},
     "nuid": "e3f3c4b9-dacd-436d-b9c5-1800a16082ed",
     "showTitle": false,
     "tableResultSettingsMap": {},
     "title": ""
    }
   },
   "source": [
    "## 2. Description of the datasets"
   ]
  },
  {
   "cell_type": "markdown",
   "metadata": {
    "application/vnd.databricks.v1+cell": {
     "cellMetadata": {},
     "inputWidgets": {},
     "nuid": "faddb99b-05a9-48f9-89fa-d078d721d20c",
     "showTitle": false,
     "tableResultSettingsMap": {},
     "title": ""
    }
   },
   "source": [
    "We artificially create the datasets. Out of the first 30 entries from each Iris species make the reference sets (annotated/labeled). With the rest, 20 rows per species, we create a mixed sample being the farmer sample (not anotated).   "
   ]
  },
  {
   "cell_type": "markdown",
   "metadata": {
    "application/vnd.databricks.v1+cell": {
     "cellMetadata": {},
     "inputWidgets": {},
     "nuid": "b51edee2-bcba-42c6-bd0e-14c979fac15b",
     "showTitle": false,
     "tableResultSettingsMap": {},
     "title": ""
    }
   },
   "source": [
    "**Import modules we may need**"
   ]
  },
  {
   "cell_type": "code",
   "execution_count": 0,
   "metadata": {
    "application/vnd.databricks.v1+cell": {
     "cellMetadata": {},
     "inputWidgets": {},
     "nuid": "50b7b480-e25b-4a03-8387-87e2979f3592",
     "showTitle": false,
     "tableResultSettingsMap": {},
     "title": ""
    }
   },
   "outputs": [],
   "source": [
    "import numpy as np\n",
    "import matplotlib.pyplot as plt\n",
    "import pandas as pd\n",
    "from scipy import stats"
   ]
  },
  {
   "cell_type": "markdown",
   "metadata": {
    "application/vnd.databricks.v1+cell": {
     "cellMetadata": {},
     "inputWidgets": {},
     "nuid": "958ad23c-eb79-49ed-8c6e-9db070432a73",
     "showTitle": false,
     "tableResultSettingsMap": {},
     "title": ""
    }
   },
   "source": [
    "**Create the datasets** "
   ]
  },
  {
   "cell_type": "code",
   "execution_count": 0,
   "metadata": {
    "application/vnd.databricks.v1+cell": {
     "cellMetadata": {},
     "inputWidgets": {},
     "nuid": "1515eb42-13c1-48b8-94b8-adcb20adacc4",
     "showTitle": false,
     "tableResultSettingsMap": {},
     "title": ""
    }
   },
   "outputs": [],
   "source": [
    "df_org     = pd.read_csv('iris.csv',names=['slength','swidth','plength','pwidth','species']) # data type is a string (str), i.e. not converted into numbers\n",
    "df_ref_set = df_org[df_org['species']=='Iris-setosa'][:30]\n",
    "df_ref_vir = df_org[df_org['species']=='Iris-virginica'][:30]\n",
    "df_ref_ver = df_org[df_org['species']=='Iris-versicolor'][:30]\n",
    "df_farm_1  = df_org[df_org['species']=='Iris-setosa'][30:]\n",
    "df_farm_2  = df_org[df_org['species']=='Iris-virginica'][30:]\n",
    "df_farm_3  = df_org[df_org['species']=='Iris-versicolor'][30:]\n",
    "df_farm    = df_org[df_org['species']=='Iris-virginica'][30:]\n",
    "df_farm    = df_farm_1.append(df_farm_2.append(df_farm_3))\n"
   ]
  },
  {
   "cell_type": "markdown",
   "metadata": {
    "application/vnd.databricks.v1+cell": {
     "cellMetadata": {},
     "inputWidgets": {},
     "nuid": "00430e84-e175-41a9-b6da-4ba82bdc2c06",
     "showTitle": false,
     "tableResultSettingsMap": {},
     "title": ""
    }
   },
   "source": [
    "The labels in the farmer dataset are unknown, so we remove them to 'simulate' the real situation."
   ]
  },
  {
   "cell_type": "code",
   "execution_count": 0,
   "metadata": {
    "application/vnd.databricks.v1+cell": {
     "cellMetadata": {},
     "inputWidgets": {},
     "nuid": "e98f5257-aff1-4395-ad65-0a4131b52040",
     "showTitle": false,
     "tableResultSettingsMap": {},
     "title": ""
    }
   },
   "outputs": [],
   "source": [
    "df_farm['species']='Unknown'\n",
    "df_farm.head()"
   ]
  },
  {
   "cell_type": "markdown",
   "metadata": {
    "application/vnd.databricks.v1+cell": {
     "cellMetadata": {},
     "inputWidgets": {},
     "nuid": "27e9978f-f65c-4ab8-8577-35038977f705",
     "showTitle": false,
     "tableResultSettingsMap": {},
     "title": ""
    }
   },
   "source": [
    "**Describe setosa**"
   ]
  },
  {
   "cell_type": "code",
   "execution_count": 0,
   "metadata": {
    "application/vnd.databricks.v1+cell": {
     "cellMetadata": {},
     "inputWidgets": {},
     "nuid": "973a22c1-f362-4c4d-983a-5e3a2bfddf9f",
     "showTitle": false,
     "tableResultSettingsMap": {},
     "title": ""
    }
   },
   "outputs": [],
   "source": [
    "df_ref_set.describe()"
   ]
  },
  {
   "cell_type": "code",
   "execution_count": 0,
   "metadata": {
    "application/vnd.databricks.v1+cell": {
     "cellMetadata": {},
     "inputWidgets": {},
     "nuid": "ff6edb77-e4fa-407b-a74a-3b562f7b2259",
     "showTitle": false,
     "tableResultSettingsMap": {},
     "title": ""
    }
   },
   "outputs": [],
   "source": [
    "df_ref_vir.describe()"
   ]
  },
  {
   "cell_type": "code",
   "execution_count": 0,
   "metadata": {
    "application/vnd.databricks.v1+cell": {
     "cellMetadata": {},
     "inputWidgets": {},
     "nuid": "7faf1b06-6cda-4606-88c8-91332386bc06",
     "showTitle": false,
     "tableResultSettingsMap": {},
     "title": ""
    }
   },
   "outputs": [],
   "source": [
    "df_ref_ver.describe()"
   ]
  },
  {
   "cell_type": "markdown",
   "metadata": {
    "application/vnd.databricks.v1+cell": {
     "cellMetadata": {},
     "inputWidgets": {},
     "nuid": "d038f0c0-b568-4323-bd2e-44479d64fbdc",
     "showTitle": false,
     "tableResultSettingsMap": {},
     "title": ""
    }
   },
   "source": [
    "I'will make a table suited for the poster:"
   ]
  },
  {
   "cell_type": "code",
   "execution_count": 0,
   "metadata": {
    "application/vnd.databricks.v1+cell": {
     "cellMetadata": {},
     "inputWidgets": {},
     "nuid": "727345f0-de38-4b7b-9f3e-f5ab7c19c577",
     "showTitle": false,
     "tableResultSettingsMap": {},
     "title": ""
    }
   },
   "outputs": [],
   "source": [
    "#Python code for that table here."
   ]
  },
  {
   "cell_type": "markdown",
   "metadata": {
    "application/vnd.databricks.v1+cell": {
     "cellMetadata": {},
     "inputWidgets": {},
     "nuid": "27de2b1b-dfb5-4674-afaa-e0f056a05201",
     "showTitle": false,
     "tableResultSettingsMap": {},
     "title": ""
    }
   },
   "source": [
    "**Check normality**"
   ]
  },
  {
   "cell_type": "code",
   "execution_count": 0,
   "metadata": {
    "application/vnd.databricks.v1+cell": {
     "cellMetadata": {},
     "inputWidgets": {},
     "nuid": "7ab2cbb5-bee9-4c6b-a273-de44855b0b55",
     "showTitle": false,
     "tableResultSettingsMap": {},
     "title": ""
    }
   },
   "outputs": [],
   "source": [
    "print('p-values from the normality tests on the setal width (D Agostino-Pearson):')\n",
    "datasets        = [df_ref_set['swidth'],df_ref_vir['swidth'],df_ref_ver['swidth'],df_farm['swidth'] ]\n",
    "dataset_labels = ['Setosa','Virginica','Versicolor','Farmer'] \n",
    "i = 0\n",
    "for dataset in datasets:\n",
    "  k2, p = stats.normaltest(dataset) # D Agostino-Pearson\n",
    "  print('%10s %1.2f ' % (dataset_labels[i],p))\n",
    "  i+=1"
   ]
  },
  {
   "cell_type": "markdown",
   "metadata": {
    "application/vnd.databricks.v1+cell": {
     "cellMetadata": {},
     "inputWidgets": {},
     "nuid": "70bc51ea-72d4-4620-8815-081665f1b6f1",
     "showTitle": false,
     "tableResultSettingsMap": {},
     "title": ""
    }
   },
   "source": [
    "We conclude that all datasets are normal in the setal width."
   ]
  },
  {
   "cell_type": "markdown",
   "metadata": {
    "application/vnd.databricks.v1+cell": {
     "cellMetadata": {},
     "inputWidgets": {},
     "nuid": "a3fa059f-862f-43df-8549-9c96dba450ca",
     "showTitle": false,
     "tableResultSettingsMap": {},
     "title": ""
    }
   },
   "source": [
    "**Plot the histograms (looking for fitering posibilities)**"
   ]
  },
  {
   "cell_type": "code",
   "execution_count": 0,
   "metadata": {
    "application/vnd.databricks.v1+cell": {
     "cellMetadata": {},
     "inputWidgets": {},
     "nuid": "0e13493b-3ea2-4578-995f-98ff05f13089",
     "showTitle": false,
     "tableResultSettingsMap": {},
     "title": ""
    }
   },
   "outputs": [],
   "source": [
    "plt.figure(figsize=(12,10))\n",
    "plt.subplot(2,2,1)\n",
    "plt.title('Setal Length')\n",
    "i=0\n",
    "for dataset in datasets[0:3]:\n",
    "    dataset.plot(kind=\"hist\",fill=True,alpha=0.2,histtype='step',label=dataset_labels[i])\n",
    "    #print('%10s %1.2f ' % (datasets_labels[i],p))\n",
    "    i+=1\n",
    "plt.legend()\n",
    "plt.subplot(2,2,2)\n",
    "plt.title('Setal Length')\n",
    "datasets2 = [df_ref_set['slength'],df_ref_vir['slength'],df_ref_ver['slength'],df_farm['slength'] ]\n",
    "i=0\n",
    "for dataset in datasets2[0:3]:\n",
    "    dataset.plot(kind=\"hist\",fill=True,alpha=0.2,histtype='step',label=dataset_labels[i])\n",
    "    #print('%10s %1.2f ' % (datasets_labels[i],p))\n",
    "    i+=1\n",
    "plt.legend()\n",
    "#plt.show()\n",
    "plt.subplot(2,2,3)\n",
    "plt.title('Petal Width')\n",
    "datasets3 = [df_ref_set['pwidth'],df_ref_vir['pwidth'],df_ref_ver['pwidth'],df_farm['pwidth'] ]\n",
    "i=0\n",
    "for dataset in datasets3[0:3]:\n",
    "    dataset.plot(kind=\"hist\",fill=True,alpha=0.2,histtype='step',label=dataset_labels[i])\n",
    "    #print('%10s %1.2f ' % (datasets_labels[i],p))\n",
    "    i+=1\n",
    "plt.legend()\n",
    "#plt.show()\n",
    "plt.subplot(2,2,4)\n",
    "plt.title('Petal Length')\n",
    "datasets4 = [df_ref_set['plength'],df_ref_vir['plength'],df_ref_ver['plength'],df_farm['plength'] ]\n",
    "i=0\n",
    "for dataset in datasets4[0:3]:\n",
    "    dataset.plot(kind=\"hist\",fill=True,alpha=0.2,histtype='step',label=dataset_labels[i])\n",
    "    #print('%10s %1.2f ' % (datasets_labels[i],p))\n",
    "    i+=1\n",
    "plt.legend()\n",
    "plt.show()"
   ]
  },
  {
   "cell_type": "markdown",
   "metadata": {
    "application/vnd.databricks.v1+cell": {
     "cellMetadata": {},
     "inputWidgets": {},
     "nuid": "3d648a35-8516-4548-8739-f47feedfad73",
     "showTitle": false,
     "tableResultSettingsMap": {},
     "title": ""
    }
   },
   "source": [
    "It is clear that we filter out setosa more or less completly with p_width<0.7 cm and plength<2.5 cm. Let's look at the populations in this this space as a scatter plot. "
   ]
  },
  {
   "cell_type": "code",
   "execution_count": 0,
   "metadata": {
    "application/vnd.databricks.v1+cell": {
     "cellMetadata": {},
     "inputWidgets": {},
     "nuid": "e6dfdf03-94eb-4a0e-9370-5169fca49a8a",
     "showTitle": false,
     "tableResultSettingsMap": {},
     "title": ""
    }
   },
   "outputs": [],
   "source": [
    "plt.subplot(1,1,1)\n",
    "plt.scatter(df_ref_set['plength'],df_ref_set['pwidth'],c='b',label='Setosa')\n",
    "plt.scatter(df_ref_vir['plength'],df_ref_vir['pwidth'],c='g',label='Virginica')\n",
    "plt.scatter(df_ref_ver['plength'],df_ref_ver['pwidth'],c='r',label='Versicolor')\n",
    "plt.xlabel('plength')\n",
    "plt.ylabel('pwidth')\n",
    "plt.legend()\n",
    "plt.show()"
   ]
  },
  {
   "cell_type": "markdown",
   "metadata": {
    "application/vnd.databricks.v1+cell": {
     "cellMetadata": {},
     "inputWidgets": {},
     "nuid": "d1b5a4bf-675e-4cd3-9446-02b3f14c8098",
     "showTitle": false,
     "tableResultSettingsMap": {},
     "title": ""
    }
   },
   "source": [
    "A discrimination should work very well. However, we don't see the full distribution and this is just by eye. I will take a look at the sepal version of the plot, too."
   ]
  },
  {
   "cell_type": "code",
   "execution_count": 0,
   "metadata": {
    "application/vnd.databricks.v1+cell": {
     "cellMetadata": {},
     "inputWidgets": {},
     "nuid": "0ab94c21-c7c7-442d-9402-ecb78537bc63",
     "showTitle": false,
     "tableResultSettingsMap": {},
     "title": ""
    }
   },
   "outputs": [],
   "source": [
    "plt.subplot(1,1,1)\n",
    "plt.scatter(df_ref_set['slength'],df_ref_set['swidth'],c='b',label='Setosa')\n",
    "plt.scatter(df_ref_vir['slength'],df_ref_vir['swidth'],c='g',label='Virginica')\n",
    "plt.scatter(df_ref_ver['slength'],df_ref_ver['swidth'],c='r',label='Versicolor')\n",
    "plt.xlabel('slength')\n",
    "plt.ylabel('swidth')\n",
    "plt.legend()\n",
    "plt.show()"
   ]
  },
  {
   "cell_type": "markdown",
   "metadata": {
    "application/vnd.databricks.v1+cell": {
     "cellMetadata": {},
     "inputWidgets": {},
     "nuid": "2e7b9749-f079-43cd-b46e-1a66bcc3a44a",
     "showTitle": false,
     "tableResultSettingsMap": {},
     "title": ""
    }
   },
   "source": [
    "Also here a good separation seems easy by using a line. Fitting a line which best separates between two samples belongs to Module 3. Here we will choose by eye two cuts in the petal plane and estimate the efficiency of the filter by using generated values from fitted models."
   ]
  },
  {
   "cell_type": "markdown",
   "metadata": {
    "application/vnd.databricks.v1+cell": {
     "cellMetadata": {},
     "inputWidgets": {},
     "nuid": "2f9b51c1-03e9-4016-9c0d-fe16adf8146c",
     "showTitle": false,
     "tableResultSettingsMap": {},
     "title": ""
    }
   },
   "source": [
    "## 3. Filtering out Setosa from the farmer sample"
   ]
  },
  {
   "cell_type": "markdown",
   "metadata": {
    "application/vnd.databricks.v1+cell": {
     "cellMetadata": {},
     "inputWidgets": {},
     "nuid": "c925653a-d45f-46c6-a3b7-df5174e48485",
     "showTitle": false,
     "tableResultSettingsMap": {},
     "title": ""
    }
   },
   "source": [
    "Let us fit normal distributions to the reference samples. Then generate 100 000 rows with these distributions, plot the scatter plots with this simulated data, define the fitering cuts and calculate the efficiency of our filter."
   ]
  },
  {
   "cell_type": "code",
   "execution_count": 0,
   "metadata": {
    "application/vnd.databricks.v1+cell": {
     "cellMetadata": {},
     "inputWidgets": {},
     "nuid": "25a0b0c8-7372-46f8-98c9-a385705314d6",
     "showTitle": false,
     "tableResultSettingsMap": {},
     "title": ""
    }
   },
   "outputs": [],
   "source": [
    "import scipy\n",
    "mean, sd = scipy.stats.norm.fit(df_ref_set['plength'])\n",
    "df_gen_pl_set = scipy.stats.norm.rvs(mean,sd,100000)\n",
    "mean, sd = scipy.stats.norm.fit(df_ref_set['pwidth'])\n",
    "df_gen_pw_set = scipy.stats.norm.rvs(mean,sd,100000)\n",
    "\n",
    "mean, sd = scipy.stats.norm.fit(df_ref_vir['plength'])\n",
    "df_gen_pl_vir = scipy.stats.norm.rvs(mean,sd,100000)\n",
    "mean, sd = scipy.stats.norm.fit(df_ref_vir['pwidth'])\n",
    "df_gen_pw_vir = scipy.stats.norm.rvs(mean,sd,100000)\n",
    "\n",
    "mean, sd = scipy.stats.norm.fit(df_ref_ver['plength'])\n",
    "df_gen_pl_ver = scipy.stats.norm.rvs(mean,sd,100000)\n",
    "mean, sd = scipy.stats.norm.fit(df_ref_ver['pwidth'])\n",
    "df_gen_pw_ver = scipy.stats.norm.rvs(mean,sd,100000)\n",
    "\n",
    "plt.subplot(1,1,1)\n",
    "plt.scatter(df_gen_pl_set,df_gen_pw_set,c='b',label='Setosa')\n",
    "plt.scatter(df_gen_pl_vir,df_gen_pw_vir,c='g',label='Virginiga')\n",
    "plt.scatter(df_gen_pl_ver,df_gen_pw_ver,c='r',label='Versicolor')\n",
    "plt.xlabel('plength')\n",
    "plt.ylabel('pwidth')\n",
    "plt.legend()\n",
    "plt.show()"
   ]
  },
  {
   "cell_type": "markdown",
   "metadata": {
    "application/vnd.databricks.v1+cell": {
     "cellMetadata": {},
     "inputWidgets": {},
     "nuid": "6d45d69a-3389-4561-9435-6557647197f6",
     "showTitle": false,
     "tableResultSettingsMap": {},
     "title": ""
    }
   },
   "source": [
    "**Filter choice:** plength<2.5 and pwidth<1.0\n",
    "    \n",
    "**Filter efficiency:** \n",
    "- Setosa 1.0 (100%)\n",
    "- Virginica 0.0\n",
    "- Versicolor 0.0 "
   ]
  },
  {
   "cell_type": "markdown",
   "metadata": {
    "application/vnd.databricks.v1+cell": {
     "cellMetadata": {},
     "inputWidgets": {},
     "nuid": "4a413911-924e-477f-b56c-7141ec50b74f",
     "showTitle": false,
     "tableResultSettingsMap": {},
     "title": ""
    }
   },
   "source": [
    "## 3. Filter the farmer data"
   ]
  },
  {
   "cell_type": "code",
   "execution_count": 0,
   "metadata": {
    "application/vnd.databricks.v1+cell": {
     "cellMetadata": {},
     "inputWidgets": {},
     "nuid": "e99957d9-40b0-465d-9962-9480abadbaed",
     "showTitle": false,
     "tableResultSettingsMap": {},
     "title": ""
    }
   },
   "outputs": [],
   "source": [
    "df_farm     = df_farm.sort_values('slength')\n",
    "df_farm_set = df_farm[df_farm['plength'] < 2.5]\n",
    "df_farm_set"
   ]
  },
  {
   "cell_type": "markdown",
   "metadata": {
    "application/vnd.databricks.v1+cell": {
     "cellMetadata": {},
     "inputWidgets": {},
     "nuid": "cdb00f75-e434-4503-a4ac-c955bac7d5b8",
     "showTitle": false,
     "tableResultSettingsMap": {},
     "title": ""
    }
   },
   "source": [
    "## 4. Make the hypothesis test"
   ]
  },
  {
   "cell_type": "markdown",
   "metadata": {
    "application/vnd.databricks.v1+cell": {
     "cellMetadata": {},
     "inputWidgets": {},
     "nuid": "22208786-3ca3-4a7a-be87-b1802c4f93eb",
     "showTitle": false,
     "tableResultSettingsMap": {},
     "title": ""
    }
   },
   "source": [
    "What is the probability that the farmer's Setosa sample is a just fluctuation of the fitted model?\n",
    "\n",
    "First on the non-filtered farmer data:"
   ]
  },
  {
   "cell_type": "code",
   "execution_count": 0,
   "metadata": {
    "application/vnd.databricks.v1+cell": {
     "cellMetadata": {},
     "inputWidgets": {},
     "nuid": "6566627a-7b84-447e-af54-0f73d666bc92",
     "showTitle": false,
     "tableResultSettingsMap": {},
     "title": ""
    }
   },
   "outputs": [],
   "source": [
    "stats.ttest_ind(df_farm['swidth'],df_ref_set['swidth'])"
   ]
  },
  {
   "cell_type": "markdown",
   "metadata": {
    "application/vnd.databricks.v1+cell": {
     "cellMetadata": {},
     "inputWidgets": {},
     "nuid": "7453d4fc-5fbb-492b-99b5-dfd1f8957067",
     "showTitle": false,
     "tableResultSettingsMap": {},
     "title": ""
    }
   },
   "source": [
    "These are not from the same population. What about the filtered data:"
   ]
  },
  {
   "cell_type": "code",
   "execution_count": 0,
   "metadata": {
    "application/vnd.databricks.v1+cell": {
     "cellMetadata": {},
     "inputWidgets": {},
     "nuid": "0fe8a55c-032d-4f33-a3f9-0cfc140f3768",
     "showTitle": false,
     "tableResultSettingsMap": {},
     "title": ""
    }
   },
   "outputs": [],
   "source": [
    "stats.ttest_ind(df_farm_set['swidth'],df_ref_set['swidth'])"
   ]
  },
  {
   "cell_type": "markdown",
   "metadata": {
    "application/vnd.databricks.v1+cell": {
     "cellMetadata": {},
     "inputWidgets": {},
     "nuid": "a6220dc6-afd5-42f7-acd0-f03a6f0f57b4",
     "showTitle": false,
     "tableResultSettingsMap": {},
     "title": ""
    }
   },
   "source": [
    "Clearly from the same population. Some more tests:"
   ]
  },
  {
   "cell_type": "code",
   "execution_count": 0,
   "metadata": {
    "application/vnd.databricks.v1+cell": {
     "cellMetadata": {},
     "inputWidgets": {},
     "nuid": "f31ce30e-20d0-4eb7-9766-95fafba3d940",
     "showTitle": false,
     "tableResultSettingsMap": {},
     "title": ""
    }
   },
   "outputs": [],
   "source": [
    "stats.ttest_ind(df_farm_set['slength'],df_ref_set['slength'])"
   ]
  },
  {
   "cell_type": "code",
   "execution_count": 0,
   "metadata": {
    "application/vnd.databricks.v1+cell": {
     "cellMetadata": {},
     "inputWidgets": {},
     "nuid": "ce420c5d-a4ae-420c-aff4-849919b643c0",
     "showTitle": false,
     "tableResultSettingsMap": {},
     "title": ""
    }
   },
   "outputs": [],
   "source": [
    "stats.ttest_ind(df_farm_set['plength'],df_ref_set['plength'])"
   ]
  },
  {
   "cell_type": "markdown",
   "metadata": {
    "application/vnd.databricks.v1+cell": {
     "cellMetadata": {},
     "inputWidgets": {},
     "nuid": "76e75f2c-0092-47cf-ace9-804aa4406b29",
     "showTitle": false,
     "tableResultSettingsMap": {},
     "title": ""
    }
   },
   "source": [
    "## Conclusion\n",
    "\n",
    "Our data analysis cannot confirm the claim of v4setosa. There is absolutely no evidence for the claim in our independent study. We advice the court to judge for not guilty. \n",
    "\n",
    "(And we sent a very large bill which the looser v4setosa had to pay. v4setosa went bankrott and we cannot sleep anymore...)\n",
    "\n",
    "## Remarks regarding the poster session\n",
    "\n",
    "I used four hours for this small analysis. To work it out, doing more tests, think through, study here and there, make nice tables and plots, create the poster, I would probably need another 10 hours. \n",
    "\n",
    "Considering that you may need longer due to less experience, this is what is expected from you for the poster session (about 30h work)."
   ]
  },
  {
   "cell_type": "code",
   "execution_count": 0,
   "metadata": {
    "application/vnd.databricks.v1+cell": {
     "cellMetadata": {},
     "inputWidgets": {},
     "nuid": "c9a374c5-0279-483b-96df-c4f3f518d1dc",
     "showTitle": false,
     "tableResultSettingsMap": {},
     "title": ""
    }
   },
   "outputs": [],
   "source": []
  }
 ],
 "metadata": {
  "application/vnd.databricks.v1+notebook": {
   "computePreferences": null,
   "dashboards": [],
   "environmentMetadata": null,
   "inputWidgetPreferences": null,
   "language": "python",
   "notebookMetadata": {},
   "notebookName": "CAS-D4-StatisticsSummary",
   "widgets": {}
  },
  "kernelspec": {
   "display_name": "Python 3",
   "language": "python",
   "name": "python3"
  },
  "language_info": {
   "name": "python"
  }
 },
 "nbformat": 4,
 "nbformat_minor": 0
}
