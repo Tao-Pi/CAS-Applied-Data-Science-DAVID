{
 "cells": [
  {
   "cell_type": "markdown",
   "metadata": {
    "application/vnd.databricks.v1+cell": {
     "cellMetadata": {},
     "inputWidgets": {},
     "nuid": "d3ad1ba3-113c-4262-b37f-a204c95b688d",
     "showTitle": false,
     "tableResultSettingsMap": {},
     "title": ""
    }
   },
   "source": [
    "Notebook 4, Module 2, Statistical Inference for Data Science, CAS Applied Data Science, 2019-08-29, G. Conti, S. Haug, University of Bern."
   ]
  },
  {
   "cell_type": "markdown",
   "metadata": {
    "application/vnd.databricks.v1+cell": {
     "cellMetadata": {},
     "inputWidgets": {},
     "nuid": "28d5d615-b071-4718-aabd-ef3aad1ede82",
     "showTitle": false,
     "tableResultSettingsMap": {},
     "title": ""
    }
   },
   "source": [
    "## 3. Hypothesis Testing\n",
    "\n",
    "Practice various tests with the Python scipy stats module.\n",
    "\n",
    "**Average expected study time :** 3x45 min (depending on your background)\n",
    "\n",
    "**Learning outcomes :**\n",
    "\n",
    "- Know the hypothesis test vocabulary\n",
    "- Can calculate p-values on different p.d.f's\n",
    "- Can perform normality tests of samples\n",
    "    - D'Agostino-Pearson test (Shapiro-Wilk, Kolmogorov-Smirnow) \n",
    "- Can perform t-Test on a single sample (testing against a given mean, gaussian)\n",
    "- Can perform a Wilcoxon on a single sample (testing against a given median, not gaussian, only symmetric assumption)\n",
    "- Can comparing two groups of data, e.g. treated and control, know which tests are suited for which cases\n",
    "- Can perform some ANOVA tests\n",
    "\n",
    "**Bonus skills**\n",
    "- More Python tricks\n",
    "- Get to know the Python stats module better: https://docs.scipy.org/doc/scipy/reference/stats.html\n",
    "\n",
    "**Literature examples**\n",
    "\n",
    "- https://en.wikipedia.org/wiki/Statistical_hypothesis_testing\n",
    "- http://greenteapress.com/wp/think-stats-2e/ (online book covering most of the CAS Module 2)\n",
    "\n",
    "- For life sciences (bioinformatics) for example\n",
    "https://cran.r-project.org/doc/contrib/Krijnen-IntroBioInfStatistics.pdf\n",
    "- (Particle) Physics\n",
    "http://pdg.lbl.gov/2018/reviews/rpp2018-rev-statistics.pdf\n",
    "- Finance, Insurance: For instance\n",
    "Erik Boelvik, Computation and Modelling in Insurance and Finance"
   ]
  },
  {
   "cell_type": "code",
   "execution_count": 0,
   "metadata": {
    "application/vnd.databricks.v1+cell": {
     "cellMetadata": {},
     "inputWidgets": {},
     "nuid": "f6b37cb0-4818-4b3f-8c08-65d7748e60bd",
     "showTitle": false,
     "tableResultSettingsMap": {},
     "title": ""
    }
   },
   "outputs": [],
   "source": [
    "import numpy as np\n",
    "import matplotlib.pyplot as plt\n",
    "import pandas as pd\n",
    "from scipy import stats"
   ]
  },
  {
   "cell_type": "markdown",
   "metadata": {
    "application/vnd.databricks.v1+cell": {
     "cellMetadata": {},
     "inputWidgets": {},
     "nuid": "81c55d81-b92b-4be7-bb14-d6843e99ca84",
     "showTitle": false,
     "tableResultSettingsMap": {},
     "title": ""
    }
   },
   "source": [
    "## 3.1 Vocabulary and an example"
   ]
  },
  {
   "cell_type": "markdown",
   "metadata": {
    "application/vnd.databricks.v1+cell": {
     "cellMetadata": {},
     "inputWidgets": {},
     "nuid": "75876283-9a43-40fc-a63c-34e2f9f0f6c0",
     "showTitle": false,
     "tableResultSettingsMap": {},
     "title": ""
    }
   },
   "source": [
    "The hypothesis being tested is called the Null hypothesis. When doing a statistical test, the test statistic of a sample is calculated and the p-value of this, under the null hypothesis assumption is given.\n",
    "\n",
    "This p-value is the probability of obtaining such a sample if the null hypothesis is true. A significance level of 5% is often used as the threshold where you say, this is so unlikely that I consider the null hypothesis as wrong. However, 5% is not very significant (5 times of 100 this should actually happen).\n",
    "\n",
    "**Example (not real)**\n",
    "\n",
    "- Based on samples from previous years, the female/(male+female) ratio in a class is 0.6 (60%). This is a mean calculated counting heads in a class of 100 people. We counted 60 female students. So we can safely assume that the ratio is normally distributed with a standard deviation equal to the square root of 60. \n",
    "\n",
    "- Our (a bit stupid null hypotesis) is that the ratio stays constant for the next 10 years.\n",
    "\n",
    "- This year we count 70 females in a class of 100. What is the p-value ? "
   ]
  },
  {
   "cell_type": "code",
   "execution_count": 0,
   "metadata": {
    "application/vnd.databricks.v1+cell": {
     "cellMetadata": {},
     "inputWidgets": {},
     "nuid": "4bdbee6b-b227-4ab1-97db-4d18bffb5e4b",
     "showTitle": false,
     "tableResultSettingsMap": {},
     "title": ""
    }
   },
   "outputs": [],
   "source": [
    "def get_pvalue_on_gauss(mu,data,nbins):\n",
    "  sigma = np.sqrt(mu) # Standard deviation\n",
    "  #print('The standard deviation is',sigma)\n",
    "  # Plot the null hypothesis\n",
    "  x = np.linspace(0,nbins, nbins) # 100 bins \n",
    "  plt.plot(x, stats.norm.pdf(x,mu,sigma),'r-', lw=2, alpha=0.6, label='norm pdf')\n",
    "  plt.show()\n",
    "  p_value = 1 - stats.norm.cdf(data,mu,sigma) # cdf = cumulated density function, see below\n",
    "  #print('The p-value = %1.3f'% p_value) \n",
    "  return p_value\n",
    "\n",
    "p_value = get_pvalue_on_gauss(70,60,100)\n",
    "print(p_value)"
   ]
  },
  {
   "cell_type": "markdown",
   "metadata": {
    "application/vnd.databricks.v1+cell": {
     "cellMetadata": {},
     "inputWidgets": {},
     "nuid": "b754069c-eacd-4ef0-9af9-1fc9e4844719",
     "showTitle": false,
     "tableResultSettingsMap": {},
     "title": ""
    }
   },
   "source": [
    "Do you still think our null hypothesis is valid ?\n",
    "\n",
    "1 - CDF is the p-value. If you want to know more about CDF, read this: https://en.wikipedia.org/wiki/Cumulative_distribution_function\n",
    "\n",
    "**The same calculation with a Poisson distribution**\n"
   ]
  },
  {
   "cell_type": "code",
   "execution_count": 0,
   "metadata": {
    "application/vnd.databricks.v1+cell": {
     "cellMetadata": {},
     "inputWidgets": {},
     "nuid": "b36e69ef-495d-467d-889c-1f75a708d27d",
     "showTitle": false,
     "tableResultSettingsMap": {},
     "title": ""
    }
   },
   "outputs": [],
   "source": [
    "def get_pvalue_on_poisson(mu,data,nbins):\n",
    "    p_value = 1 - stats.poisson.cdf(data,mu) \n",
    "    #print('The p-value = %1.3f'% p_value) \n",
    "    xp = np.arange(stats.poisson.ppf(0.01, mu), stats.poisson.ppf(0.99, mu))\n",
    "    plt.plot(xp, stats.poisson.pmf(xp,mu),'b_', lw=2, alpha=0.6, label='poisson pdf')\n",
    "    #plt.show()\n",
    "    return p_value\n",
    "\n",
    "p_value = get_pvalue_on_poisson(70,60,100)\n",
    "print(p_value)"
   ]
  },
  {
   "cell_type": "markdown",
   "metadata": {
    "application/vnd.databricks.v1+cell": {
     "cellMetadata": {},
     "inputWidgets": {},
     "nuid": "dc2fd09c-ebb7-4baa-8797-cdcb51b98ded",
     "showTitle": false,
     "tableResultSettingsMap": {},
     "title": ""
    }
   },
   "source": [
    "**p-value differences between Normal and Poisson**\n",
    "\n",
    "How much does the p-value on the normal distribution (approximation) from the one on the Poisson distribution (supposed to be the correct):"
   ]
  },
  {
   "cell_type": "code",
   "execution_count": 0,
   "metadata": {
    "application/vnd.databricks.v1+cell": {
     "cellMetadata": {},
     "inputWidgets": {},
     "nuid": "4d9c46c2-28ed-4edd-8058-bd0e33c9c258",
     "showTitle": false,
     "tableResultSettingsMap": {},
     "title": ""
    }
   },
   "outputs": [],
   "source": [
    "data_scale=70/60.\n",
    "for mu in range(3,100):\n",
    "    pv_gauss=get_pvalue_on_gauss(data_scale*mu,mu,100)\n",
    "    pv_poisson=get_pvalue_on_poisson(data_scale*mu,mu,100)\n",
    "    print('mu = %1.2f %1.2f %1.2f' % (mu,pv_gauss,pv_poisson))"
   ]
  },
  {
   "cell_type": "markdown",
   "metadata": {
    "application/vnd.databricks.v1+cell": {
     "cellMetadata": {},
     "inputWidgets": {},
     "nuid": "b1272ad5-9699-4e1b-9320-a7b241f5b1a4",
     "showTitle": false,
     "tableResultSettingsMap": {},
     "title": ""
    }
   },
   "source": [
    "So we see that in our case (mu = 60), the p-value on the normal distribution is only one percent higher than on the poisson distribution. Conclusion: We can safely use the normal distribution as an approximation."
   ]
  },
  {
   "cell_type": "markdown",
   "metadata": {
    "application/vnd.databricks.v1+cell": {
     "cellMetadata": {},
     "inputWidgets": {},
     "nuid": "545af7f8-c83c-4a52-b929-d56e9d844c59",
     "showTitle": false,
     "tableResultSettingsMap": {},
     "title": ""
    }
   },
   "source": [
    "### Error types and statistical power"
   ]
  },
  {
   "cell_type": "markdown",
   "metadata": {
    "application/vnd.databricks.v1+cell": {
     "cellMetadata": {},
     "inputWidgets": {},
     "nuid": "3cf64138-dfee-4216-a6ec-4618def61a24",
     "showTitle": false,
     "tableResultSettingsMap": {},
     "title": ""
    }
   },
   "source": [
    "- Type I : Reject the null hypothesis due to a fluctuation (false positive)\n",
    "- Type II : Keep the null hypothesis by interpreting a real effect as a fluctuation (false negative)\n",
    "- (Type 0 : Make the right conclusion but asking the wrong question)\n",
    " \n",
    "People may talk about the **statistical power** of their experiment. This is a number between 0 and 1 telling how often your experiment would lead to a type II error. So a high power (close to 1) means rare type II errors. The statistical power is infuenced by your significance criterion, the (physical) magnitude of your effect, the sample size (\"statistics\").\n",
    "\n",
    "### Many tests\n",
    "\n",
    "There are many tests on the market and some or most of them are implemented in Python (or R). We don't look at them all. We just practise on a few useful cases. You would look up suiteable tests for your analysis. The important thing is to know what a test assumes (distribution etc) and how to interprete the result and if you can trust the result\n"
   ]
  },
  {
   "cell_type": "markdown",
   "metadata": {
    "application/vnd.databricks.v1+cell": {
     "cellMetadata": {},
     "inputWidgets": {},
     "nuid": "998f9443-2292-4ece-8051-19c23cdf4cb6",
     "showTitle": false,
     "tableResultSettingsMap": {},
     "title": ""
    }
   },
   "source": [
    "## 4.2 Normality tests of single samples"
   ]
  },
  {
   "cell_type": "markdown",
   "metadata": {
    "application/vnd.databricks.v1+cell": {
     "cellMetadata": {},
     "inputWidgets": {},
     "nuid": "5a0b484b-a98d-4a78-85c6-82229ec33d83",
     "showTitle": false,
     "tableResultSettingsMap": {},
     "title": ""
    }
   },
   "source": [
    "\n",
    "Normality tests can be performed for each column of data. Each normality test reports a p-value that answers this question:\n",
    "\n",
    "If you randomly sample from a Gaussian population, what is the probability of obtaining a sample that deviates from a Gaussian distribution as much (or more so) as this sample does?\n",
    "\n",
    "Normality tests are not good for small samples (<10-20 values). You can do it, but the interpration of the output is not straight forward.\n",
    "\n",
    "There are several normality tests in the Python stats module:\n",
    "- D’Agostino-Pearson\n",
    "- Shapiro-Wilk\n",
    "- Kolomogorv-Smirnov\n",
    "\n",
    "The first one is considered the best one, so use that.\n",
    "\n",
    "https://docs.scipy.org/doc/scipy/reference/stats.html\n"
   ]
  },
  {
   "cell_type": "markdown",
   "metadata": {
    "application/vnd.databricks.v1+cell": {
     "cellMetadata": {},
     "inputWidgets": {},
     "nuid": "17008545-4047-4922-a011-d65ca6e12839",
     "showTitle": false,
     "tableResultSettingsMap": {},
     "title": ""
    }
   },
   "source": [
    "Let us look at the p-values of some normality tests with generated data."
   ]
  },
  {
   "cell_type": "code",
   "execution_count": 0,
   "metadata": {
    "application/vnd.databricks.v1+cell": {
     "cellMetadata": {},
     "inputWidgets": {},
     "nuid": "566db6d4-c8a2-4ffc-8850-8eea7fe70d97",
     "showTitle": false,
     "tableResultSettingsMap": {},
     "title": ""
    }
   },
   "outputs": [],
   "source": [
    "pts = 1000\n",
    "np.random.seed(28041990) # By fixing the seed, you can make the generation reproducible\n",
    "# Generate two data samples a and b, each with 1000 entries\n",
    "a = np.random.normal(0, 1, size=pts) # mean = 0, width = 1 (std deviation)\n",
    "b = np.random.normal(2, 1, size=pts)\n",
    "#x = np.concatenate((a, b))\n",
    "x = a\n",
    "k2, p = stats.normaltest(x) # D Agostino-Pearson. The method returns the test statistic value and the p-value\n",
    "alpha = 0.001 # Rejection criterion defined by you\n",
    "print('Alpha = ',alpha)\n",
    "print('p = ',p)\n",
    "if p < alpha:  # null hypothesis: x comes from a normal distribution\n",
    "     print(\"The null hypothesis can be rejected\")\n",
    "else:\n",
    "  print(\"The null hypothesis cannot be rejected\")"
   ]
  },
  {
   "cell_type": "markdown",
   "metadata": {
    "application/vnd.databricks.v1+cell": {
     "cellMetadata": {},
     "inputWidgets": {},
     "nuid": "4bbd0ce0-e27b-4c07-ae89-e52c783c0df3",
     "showTitle": false,
     "tableResultSettingsMap": {},
     "title": ""
    }
   },
   "source": [
    "This is not very surprising as we generated the data from a normal distribution."
   ]
  },
  {
   "cell_type": "markdown",
   "metadata": {
    "application/vnd.databricks.v1+cell": {
     "cellMetadata": {},
     "inputWidgets": {},
     "nuid": "4ad52582-6778-4d73-ba8b-891968693564",
     "showTitle": false,
     "tableResultSettingsMap": {},
     "title": ""
    }
   },
   "source": [
    "Load the iris sepal length of species and get some descriptive values."
   ]
  },
  {
   "cell_type": "code",
   "execution_count": 0,
   "metadata": {
    "application/vnd.databricks.v1+cell": {
     "cellMetadata": {},
     "inputWidgets": {},
     "nuid": "8651379f-1536-4416-a8d9-58a56d700bd7",
     "showTitle": false,
     "tableResultSettingsMap": {},
     "title": ""
    }
   },
   "outputs": [],
   "source": [
    "import pandas as pd\n",
    "dataframe = pd.read_csv('iris.csv',names=['slength','swidth','plength','pwidth','name'])\n",
    "df_setosa=dataframe[dataframe['name'] == 'Iris-setosa']\n",
    "dfs = df_setosa['swidth']\n",
    "print(stats.describe(dfs)) # Print some descriptive statistics\n",
    "dfs.describe() # the pandas describe prints similar statistics"
   ]
  },
  {
   "cell_type": "markdown",
   "metadata": {
    "application/vnd.databricks.v1+cell": {
     "cellMetadata": {},
     "inputWidgets": {},
     "nuid": "ac2f76b9-9eed-4c50-814c-341f23606259",
     "showTitle": false,
     "tableResultSettingsMap": {},
     "title": ""
    }
   },
   "source": [
    "Check the normality of the iris sepal length of species"
   ]
  },
  {
   "cell_type": "code",
   "execution_count": 0,
   "metadata": {
    "application/vnd.databricks.v1+cell": {
     "cellMetadata": {},
     "inputWidgets": {},
     "nuid": "a429279c-a4f6-412e-85c1-c6678af76041",
     "showTitle": false,
     "tableResultSettingsMap": {},
     "title": ""
    }
   },
   "outputs": [],
   "source": [
    "k2, p = stats.normaltest(dfs) # D Agostino-Pearson test\n",
    "print(\"p-value = %1.2f\" % p)"
   ]
  },
  {
   "cell_type": "markdown",
   "metadata": {
    "application/vnd.databricks.v1+cell": {
     "cellMetadata": {},
     "inputWidgets": {},
     "nuid": "17be7144-35c8-48a8-ae49-dc2a4c9ffcda",
     "showTitle": false,
     "tableResultSettingsMap": {},
     "title": ""
    }
   },
   "source": [
    "What does this p-value mean? If you want to know what the k2 is, look it up in the documentation."
   ]
  },
  {
   "cell_type": "markdown",
   "metadata": {
    "application/vnd.databricks.v1+cell": {
     "cellMetadata": {},
     "inputWidgets": {},
     "nuid": "03435f37-a4c7-4679-b803-70363c694940",
     "showTitle": false,
     "tableResultSettingsMap": {},
     "title": ""
    }
   },
   "source": [
    "We can also try the shapiro test that the stat module offers:"
   ]
  },
  {
   "cell_type": "code",
   "execution_count": 0,
   "metadata": {
    "application/vnd.databricks.v1+cell": {
     "cellMetadata": {},
     "inputWidgets": {},
     "nuid": "408698a7-527e-4f73-bf11-f7de22e9767a",
     "showTitle": false,
     "tableResultSettingsMap": {},
     "title": ""
    }
   },
   "outputs": [],
   "source": [
    "s,p = stats.shapiro(dfs)\n",
    "print('Test statistic = ',s,' p-value =',p)"
   ]
  },
  {
   "cell_type": "markdown",
   "metadata": {
    "application/vnd.databricks.v1+cell": {
     "cellMetadata": {},
     "inputWidgets": {},
     "nuid": "33c8a738-5346-4f31-bd18-c1aa5950b83a",
     "showTitle": false,
     "tableResultSettingsMap": {},
     "title": ""
    }
   },
   "source": [
    "In this case the shapiro test returns a much lower p-value. What can you do about this difference?"
   ]
  },
  {
   "cell_type": "markdown",
   "metadata": {
    "application/vnd.databricks.v1+cell": {
     "cellMetadata": {},
     "inputWidgets": {},
     "nuid": "256c62fa-03e9-4b84-8b92-8fd47f7114c8",
     "showTitle": false,
     "tableResultSettingsMap": {},
     "title": ""
    }
   },
   "source": [
    "### t-Test (with a given mean)\n",
    "\n",
    "With the t-test you can test your data against a normal distribution with a given mean:\n",
    "\n",
    "If the data were sampled from a Gaussian population with a mean equal to the hypothetical value you entered, what is the chance of randomly selecting N data points and finding a mean as far (or further) from the hypothetical value as observed here?\n",
    "\n",
    "https://docs.scipy.org/doc/scipy/reference/generated/scipy.stats.normaltest.html#scipy.stats.normaltest"
   ]
  },
  {
   "cell_type": "code",
   "execution_count": 0,
   "metadata": {
    "application/vnd.databricks.v1+cell": {
     "cellMetadata": {},
     "inputWidgets": {},
     "nuid": "ca0a1e2c-f814-4ee3-be58-831c36672331",
     "showTitle": false,
     "tableResultSettingsMap": {},
     "title": ""
    }
   },
   "outputs": [],
   "source": [
    "print('The sample mean of the sepal length = ',dfs.mean())\n",
    "stats.ttest_1samp(dfs,3.3)"
   ]
  },
  {
   "cell_type": "markdown",
   "metadata": {
    "application/vnd.databricks.v1+cell": {
     "cellMetadata": {},
     "inputWidgets": {},
     "nuid": "6bc4cbf5-e8e9-4fb4-abe8-6f22b6a260f6",
     "showTitle": false,
     "tableResultSettingsMap": {},
     "title": ""
    }
   },
   "source": [
    "**Interpretation:** If the real average of the sepal length of setosa leaves is 3.3 cm and if the length of the leaves is normally distributed, the probability of sampling this data or worse data from setosa leaves is 3.3%. "
   ]
  },
  {
   "cell_type": "markdown",
   "metadata": {
    "application/vnd.databricks.v1+cell": {
     "cellMetadata": {},
     "inputWidgets": {},
     "nuid": "e6707f32-0a03-4f35-b774-004c8a5b93b9",
     "showTitle": false,
     "tableResultSettingsMap": {},
     "title": ""
    }
   },
   "source": [
    "Our null hypothesis in this case was a normal distribution with mean equal to 3.3 cm."
   ]
  },
  {
   "cell_type": "markdown",
   "metadata": {
    "application/vnd.databricks.v1+cell": {
     "cellMetadata": {},
     "inputWidgets": {},
     "nuid": "083a1532-f67f-4d5a-88d3-e4cd4077e38e",
     "showTitle": false,
     "tableResultSettingsMap": {},
     "title": ""
    }
   },
   "source": [
    "## 4.3 Non-parametric Wilcoxon signed rank test"
   ]
  },
  {
   "cell_type": "markdown",
   "metadata": {
    "application/vnd.databricks.v1+cell": {
     "cellMetadata": {},
     "inputWidgets": {},
     "nuid": "489b1bb9-c251-4c18-a9f1-7cec5afaf0c7",
     "showTitle": false,
     "tableResultSettingsMap": {},
     "title": ""
    }
   },
   "source": [
    "This test answers the same question as the t-test above, but is not testing against a normal distribution. It only assumes a symmetric shape. So there is normal assumption and no parameters involved. If you like, you can make an example yourself.\n",
    "\n",
    "https://docs.scipy.org/doc/scipy/reference/generated/scipy.stats.wilcoxon.html#scipy.stats.wilcoxon"
   ]
  },
  {
   "cell_type": "markdown",
   "metadata": {
    "application/vnd.databricks.v1+cell": {
     "cellMetadata": {},
     "inputWidgets": {},
     "nuid": "cefd8f44-8b6f-4eac-a994-414040a2d673",
     "showTitle": false,
     "tableResultSettingsMap": {},
     "title": ""
    }
   },
   "source": [
    "## 4.4 Tests for comparing two samples "
   ]
  },
  {
   "cell_type": "markdown",
   "metadata": {
    "application/vnd.databricks.v1+cell": {
     "cellMetadata": {},
     "inputWidgets": {},
     "nuid": "3d471d30-9a94-47b9-8312-46ffa96b10e5",
     "showTitle": false,
     "tableResultSettingsMap": {},
     "title": ""
    }
   },
   "source": [
    "In many experiments one uses two groups, a treated group and a control group which is not treated. The goal is then to ckeck the effect of the treatment.\n",
    "\n",
    "One way to answer this, is to check how much the treated group differs from the control group. Python stats module offer several tests to do this.\n",
    "\n",
    "If the data is \"paired\", this can be used in the tests (they get better because there is more \"information or structure\" in the data). So we need to know what paired data is in order to choose the right test.\n",
    "\n",
    "**Paired/related data**\n",
    "- Repeated measurements on the same object/individual, e.g. before and after treatment \n",
    "\n",
    "**Unpaired/independent data**\n",
    "- Independent, e.g. from separate individuals\n",
    "\n",
    "We don't practise all tests (too much for one day).\n",
    "\n",
    "**WHICH TEST TO CHOOSE - THE DIAGRAM**\n",
    "\n",
    "![Screen%20Shot%202018-05-31%20at%2022.50.37.png](attachment:Screen%20Shot%202018-05-31%20at%2022.50.37.png)\n"
   ]
  },
  {
   "cell_type": "markdown",
   "metadata": {
    "application/vnd.databricks.v1+cell": {
     "cellMetadata": {},
     "inputWidgets": {},
     "nuid": "875a9bfc-c0ba-4dbf-81c1-1835fd2df2ce",
     "showTitle": false,
     "tableResultSettingsMap": {},
     "title": ""
    }
   },
   "source": [
    "### 4.4.1 Unpaired t test for normally distributed data with not assuming equal variance"
   ]
  },
  {
   "cell_type": "markdown",
   "metadata": {
    "application/vnd.databricks.v1+cell": {
     "cellMetadata": {},
     "inputWidgets": {},
     "nuid": "b737c49b-c6bc-4784-a129-dd92cbbcac43",
     "showTitle": false,
     "tableResultSettingsMap": {},
     "title": ""
    }
   },
   "source": [
    "Let us perform a test comparing the sepal width of the setosa and the virginica species. \n",
    "https://docs.scipy.org/doc/scipy/reference/generated/scipy.stats.ttest_ind.html#scipy.stats.ttest_ind"
   ]
  },
  {
   "cell_type": "code",
   "execution_count": 0,
   "metadata": {
    "application/vnd.databricks.v1+cell": {
     "cellMetadata": {},
     "inputWidgets": {},
     "nuid": "81c9ec5d-aee9-44c7-b86d-678d62572c53",
     "showTitle": false,
     "tableResultSettingsMap": {},
     "title": ""
    }
   },
   "outputs": [],
   "source": [
    "df_virginica=dataframe[dataframe['name'] == 'Iris-virginica']\n",
    "df_virginica.head() # Just cheking that we got the right data by looking at the first five (head)"
   ]
  },
  {
   "cell_type": "markdown",
   "metadata": {
    "application/vnd.databricks.v1+cell": {
     "cellMetadata": {},
     "inputWidgets": {},
     "nuid": "2fc6e7c7-d320-4e34-925c-c1c5e6329fa9",
     "showTitle": false,
     "tableResultSettingsMap": {},
     "title": ""
    }
   },
   "source": [
    "We did test that the setosa setal width is very normal. Let us also check the virginica setal width."
   ]
  },
  {
   "cell_type": "code",
   "execution_count": 0,
   "metadata": {
    "application/vnd.databricks.v1+cell": {
     "cellMetadata": {},
     "inputWidgets": {},
     "nuid": "476e21b7-b940-4896-a757-a6c2c1f1cba1",
     "showTitle": false,
     "tableResultSettingsMap": {},
     "title": ""
    }
   },
   "outputs": [],
   "source": [
    "k2, p = stats.normaltest(df_virginica['swidth']) # D Agostino-Pearson test\n",
    "print(\"p-value = %1.2f\" % p)"
   ]
  },
  {
   "cell_type": "markdown",
   "metadata": {
    "application/vnd.databricks.v1+cell": {
     "cellMetadata": {},
     "inputWidgets": {},
     "nuid": "9a318f0f-556d-457d-87c0-be4361c85bc7",
     "showTitle": false,
     "tableResultSettingsMap": {},
     "title": ""
    }
   },
   "source": [
    "This looks also very normal. How likely is it that these two samples come from a normal sample with the same mean?"
   ]
  },
  {
   "cell_type": "code",
   "execution_count": 0,
   "metadata": {
    "application/vnd.databricks.v1+cell": {
     "cellMetadata": {},
     "inputWidgets": {},
     "nuid": "73e5c540-79c3-4f08-b79f-7e485a54c869",
     "showTitle": false,
     "tableResultSettingsMap": {},
     "title": ""
    }
   },
   "outputs": [],
   "source": [
    "stats.ttest_ind(df_setosa['swidth'],df_virginica['swidth'], equal_var = False) # False means we don't assume equal variances (Welsch's t-test)"
   ]
  },
  {
   "cell_type": "markdown",
   "metadata": {
    "application/vnd.databricks.v1+cell": {
     "cellMetadata": {},
     "inputWidgets": {},
     "nuid": "97eb2b57-903a-40d1-8b33-59ddeb15972e",
     "showTitle": false,
     "tableResultSettingsMap": {},
     "title": ""
    }
   },
   "source": [
    "**Interpretation :** It is extremly unlikely that these samples would come from a population with the same mean. \n",
    "The sample means were:"
   ]
  },
  {
   "cell_type": "code",
   "execution_count": 0,
   "metadata": {
    "application/vnd.databricks.v1+cell": {
     "cellMetadata": {},
     "inputWidgets": {},
     "nuid": "bfb10857-0f74-40c5-b7e8-e05807f1f95e",
     "showTitle": false,
     "tableResultSettingsMap": {},
     "title": ""
    }
   },
   "outputs": [],
   "source": [
    "print(\"%1.2f %1.2f\" % (df_virginica.mean()['swidth'], df_setosa.mean()['swidth']))"
   ]
  },
  {
   "cell_type": "markdown",
   "metadata": {
    "application/vnd.databricks.v1+cell": {
     "cellMetadata": {},
     "inputWidgets": {},
     "nuid": "85640bff-3607-4b80-b4fd-d19303ca6a6b",
     "showTitle": false,
     "tableResultSettingsMap": {},
     "title": ""
    }
   },
   "source": [
    "### 4.4.2 Unpaired t test for normally distributed data assuming equal variance"
   ]
  },
  {
   "cell_type": "code",
   "execution_count": 0,
   "metadata": {
    "application/vnd.databricks.v1+cell": {
     "cellMetadata": {},
     "inputWidgets": {},
     "nuid": "c58fb361-64ed-4aa9-b3bc-3a8423e60fa8",
     "showTitle": false,
     "tableResultSettingsMap": {},
     "title": ""
    }
   },
   "outputs": [],
   "source": [
    "stats.ttest_ind(df_setosa['swidth'],df_virginica['swidth'], equal_var = True) # True means we assume equal variances "
   ]
  },
  {
   "cell_type": "markdown",
   "metadata": {
    "application/vnd.databricks.v1+cell": {
     "cellMetadata": {},
     "inputWidgets": {},
     "nuid": "e7ec48cc-0a31-4746-b190-c436e6ad023e",
     "showTitle": false,
     "tableResultSettingsMap": {},
     "title": ""
    }
   },
   "source": [
    "**Interpretation :** It is extremly unlikely that these samples would come from a population with the same mean and the same variance.\n",
    "\n",
    "The p-value got slightly worse, but such small p-values have no meaning anyway. p-values below 0.01 are often not that precise. We just know they are below 0.01.\n",
    "\n",
    "\n"
   ]
  },
  {
   "cell_type": "markdown",
   "metadata": {
    "application/vnd.databricks.v1+cell": {
     "cellMetadata": {},
     "inputWidgets": {},
     "nuid": "19c69ffe-0c28-4bcc-b1d8-6a6ff9837983",
     "showTitle": false,
     "tableResultSettingsMap": {},
     "title": ""
    }
   },
   "source": [
    "### 4.4.3 Unpaired t test for *not* normally distributed data"
   ]
  },
  {
   "cell_type": "markdown",
   "metadata": {
    "application/vnd.databricks.v1+cell": {
     "cellMetadata": {},
     "inputWidgets": {},
     "nuid": "2db3883f-741d-41a9-a5fb-124560773290",
     "showTitle": false,
     "tableResultSettingsMap": {},
     "title": ""
    }
   },
   "source": [
    "Compute the Mann-Whitney rank test on samples x and y. Only use with more than 20 data points.\n",
    "http://localhost:8888/notebooks/work/SDA-4-Hypothesis-Testing.ipynb#t-Test"
   ]
  },
  {
   "cell_type": "code",
   "execution_count": 0,
   "metadata": {
    "application/vnd.databricks.v1+cell": {
     "cellMetadata": {},
     "inputWidgets": {},
     "nuid": "0b458f00-83c4-4afd-b38d-74dcee735bb6",
     "showTitle": false,
     "tableResultSettingsMap": {},
     "title": ""
    }
   },
   "outputs": [],
   "source": [
    "stats.mannwhitneyu(df_setosa['swidth'],df_virginica['swidth'])"
   ]
  },
  {
   "cell_type": "markdown",
   "metadata": {
    "application/vnd.databricks.v1+cell": {
     "cellMetadata": {},
     "inputWidgets": {},
     "nuid": "b6ea0973-638e-42fb-81c5-92b524e6ebe3",
     "showTitle": false,
     "tableResultSettingsMap": {},
     "title": ""
    }
   },
   "source": [
    "Let us do this test with samples from the same population."
   ]
  },
  {
   "cell_type": "code",
   "execution_count": 0,
   "metadata": {
    "application/vnd.databricks.v1+cell": {
     "cellMetadata": {},
     "inputWidgets": {},
     "nuid": "ec90f172-6c3e-4e78-9e02-44364bd9bc5d",
     "showTitle": false,
     "tableResultSettingsMap": {},
     "title": ""
    }
   },
   "outputs": [],
   "source": [
    "print(stats.mannwhitneyu(df_setosa['swidth'][:25],df_setosa['swidth'][25:50]))\n",
    "print(stats.mannwhitneyu(df_setosa['swidth'][:10],df_setosa['swidth'][40:50]))\n",
    "print(stats.mannwhitneyu(df_setosa['swidth'][:5],df_setosa['swidth'][45:50]))"
   ]
  },
  {
   "cell_type": "markdown",
   "metadata": {
    "application/vnd.databricks.v1+cell": {
     "cellMetadata": {},
     "inputWidgets": {},
     "nuid": "5e8fb309-e9ed-4d7d-905a-61a3e3190af9",
     "showTitle": false,
     "tableResultSettingsMap": {},
     "title": ""
    }
   },
   "source": [
    "The p-value varies quite a lot with the size of the samples. Here we would need to study where it gets stable."
   ]
  },
  {
   "cell_type": "markdown",
   "metadata": {
    "application/vnd.databricks.v1+cell": {
     "cellMetadata": {},
     "inputWidgets": {},
     "nuid": "b5a4813a-5c46-43f8-9474-babdde51bf91",
     "showTitle": false,
     "tableResultSettingsMap": {},
     "title": ""
    }
   },
   "source": [
    "Compute the **Kolmogorov-Smirnov** statistic on 2 samples. This is a test for the null hypothesis that 2 independent samples are drawn from the same continuous distribution. https://docs.scipy.org/doc/scipy/reference/generated/scipy.stats.ks_2samp.html#scipy.stats.ks_2samp"
   ]
  },
  {
   "cell_type": "code",
   "execution_count": 0,
   "metadata": {
    "application/vnd.databricks.v1+cell": {
     "cellMetadata": {},
     "inputWidgets": {},
     "nuid": "7e0cfb7e-07f1-46fd-bae0-4f0d6a76a031",
     "showTitle": false,
     "tableResultSettingsMap": {},
     "title": ""
    }
   },
   "outputs": [],
   "source": [
    "stats.ks_2samp(df_setosa['swidth'],df_virginica['swidth'])"
   ]
  },
  {
   "cell_type": "markdown",
   "metadata": {
    "application/vnd.databricks.v1+cell": {
     "cellMetadata": {},
     "inputWidgets": {},
     "nuid": "bfb3ac97-a2ed-4aae-a63c-4d43771318ed",
     "showTitle": false,
     "tableResultSettingsMap": {},
     "title": ""
    }
   },
   "source": [
    "**Interpretation:** It is very unlikely that these sets come from the same population."
   ]
  },
  {
   "cell_type": "markdown",
   "metadata": {
    "application/vnd.databricks.v1+cell": {
     "cellMetadata": {},
     "inputWidgets": {},
     "nuid": "c0eefa3a-bb31-4ea8-9457-69f1fd83ec46",
     "showTitle": false,
     "tableResultSettingsMap": {},
     "title": ""
    }
   },
   "source": [
    "Let's do it on the same population."
   ]
  },
  {
   "cell_type": "code",
   "execution_count": 0,
   "metadata": {
    "application/vnd.databricks.v1+cell": {
     "cellMetadata": {},
     "inputWidgets": {},
     "nuid": "550cc486-8394-41ed-ac09-73d918f95b68",
     "showTitle": false,
     "tableResultSettingsMap": {},
     "title": ""
    }
   },
   "outputs": [],
   "source": [
    "print(stats.ks_2samp(df_setosa['swidth'][:25],df_setosa['swidth'][25:50]))\n",
    "print(stats.ks_2samp(df_setosa['swidth'][:10],df_setosa['swidth'][40:50]))\n",
    "print(stats.ks_2samp(df_setosa['swidth'][:5],df_setosa['swidth'][45:50]))"
   ]
  },
  {
   "cell_type": "markdown",
   "metadata": {
    "application/vnd.databricks.v1+cell": {
     "cellMetadata": {},
     "inputWidgets": {},
     "nuid": "3be7cefc-cdf3-4e1d-a699-e3f8c3be198b",
     "showTitle": false,
     "tableResultSettingsMap": {},
     "title": ""
    }
   },
   "source": [
    "For both tests we get very small p-values as expected, when the sets are from different species. When we split one of the datasets into two subsets, the p-values are higher. "
   ]
  },
  {
   "cell_type": "markdown",
   "metadata": {
    "application/vnd.databricks.v1+cell": {
     "cellMetadata": {},
     "inputWidgets": {},
     "nuid": "19c0dbfe-e9e5-4386-bb80-5ab0ca042bb8",
     "showTitle": false,
     "tableResultSettingsMap": {},
     "title": ""
    }
   },
   "source": [
    "### 4.4.4 Paired t test for normally distributed data"
   ]
  },
  {
   "cell_type": "markdown",
   "metadata": {
    "application/vnd.databricks.v1+cell": {
     "cellMetadata": {},
     "inputWidgets": {},
     "nuid": "7f3a362e-d331-4bdb-b0ac-831552ba665e",
     "showTitle": false,
     "tableResultSettingsMap": {},
     "title": ""
    }
   },
   "source": [
    "\n",
    "Calculate the T-test on TWO RELATED samples. This is a test for the null hypothesis that 2 related or repeated samples have identical average (expected) values.\n",
    "\n",
    "https://docs.scipy.org/doc/scipy/reference/generated/scipy.stats.ttest_rel.html#scipy.stats.ttest_rel"
   ]
  },
  {
   "cell_type": "markdown",
   "metadata": {
    "application/vnd.databricks.v1+cell": {
     "cellMetadata": {},
     "inputWidgets": {},
     "nuid": "d28d3ae4-ad12-4ae2-a695-554b60a4fa0c",
     "showTitle": false,
     "tableResultSettingsMap": {},
     "title": ""
    }
   },
   "source": [
    "Let's test if the swidth and the slength (related/paired) of the setosa sample have identical means. "
   ]
  },
  {
   "cell_type": "code",
   "execution_count": 0,
   "metadata": {
    "application/vnd.databricks.v1+cell": {
     "cellMetadata": {},
     "inputWidgets": {},
     "nuid": "ade3699b-c236-49dd-a923-05694fa65d91",
     "showTitle": false,
     "tableResultSettingsMap": {},
     "title": ""
    }
   },
   "outputs": [],
   "source": [
    "stats.ttest_rel(df_setosa['swidth'],df_setosa['slength'])"
   ]
  },
  {
   "cell_type": "markdown",
   "metadata": {
    "application/vnd.databricks.v1+cell": {
     "cellMetadata": {},
     "inputWidgets": {},
     "nuid": "163a503e-c450-4d80-9325-ad6eb8d784e0",
     "showTitle": false,
     "tableResultSettingsMap": {},
     "title": ""
    }
   },
   "source": [
    "As expected the p-value is very small (we know that swidth and slength have very different means). Let's test two subsamples from the same sample:"
   ]
  },
  {
   "cell_type": "code",
   "execution_count": 0,
   "metadata": {
    "application/vnd.databricks.v1+cell": {
     "cellMetadata": {},
     "inputWidgets": {},
     "nuid": "6fa1bd24-76e2-4fc8-a3f7-d0a36baad3e1",
     "showTitle": false,
     "tableResultSettingsMap": {},
     "title": ""
    }
   },
   "outputs": [],
   "source": [
    "stats.ttest_rel(df_setosa.iloc[0:25,1:2],df_setosa.iloc[25:50,1:2])\n"
   ]
  },
  {
   "cell_type": "markdown",
   "metadata": {
    "application/vnd.databricks.v1+cell": {
     "cellMetadata": {},
     "inputWidgets": {},
     "nuid": "8d099254-550a-434d-8ea6-f6bd1219ffa4",
     "showTitle": false,
     "tableResultSettingsMap": {},
     "title": ""
    }
   },
   "source": [
    "As expected the p-value is high."
   ]
  },
  {
   "cell_type": "markdown",
   "metadata": {
    "application/vnd.databricks.v1+cell": {
     "cellMetadata": {},
     "inputWidgets": {},
     "nuid": "e470bfbe-a7eb-4c64-ba3d-b8bcbd6d640d",
     "showTitle": false,
     "tableResultSettingsMap": {},
     "title": ""
    }
   },
   "source": [
    "### 4.4.4 Paired test for *not* normally distributed data"
   ]
  },
  {
   "cell_type": "markdown",
   "metadata": {
    "application/vnd.databricks.v1+cell": {
     "cellMetadata": {},
     "inputWidgets": {},
     "nuid": "ea9c2cbf-4635-48cf-8799-6068d63d21cc",
     "showTitle": false,
     "tableResultSettingsMap": {},
     "title": ""
    }
   },
   "source": [
    "The Wilcoxon signed-rank test is a non-parametric statistical hypothesis test used to compare two related samples, matched samples, or repeated measurements on a single sample to assess whether their population mean ranks differ (i.e. it is a paired difference test). It can be used as an alternative to the paired Student's t-test, t-test for matched pairs, or the t-test for dependent samples when the population cannot be assumed to be normally distributed.\n",
    "https://docs.scipy.org/doc/scipy/reference/generated/scipy.stats.wilcoxon.html#scipy.stats.wilcoxon"
   ]
  },
  {
   "cell_type": "code",
   "execution_count": 0,
   "metadata": {
    "application/vnd.databricks.v1+cell": {
     "cellMetadata": {},
     "inputWidgets": {},
     "nuid": "58a711f5-e372-41c2-82dc-3701cde20fb8",
     "showTitle": false,
     "tableResultSettingsMap": {},
     "title": ""
    }
   },
   "outputs": [],
   "source": [
    "# If you like, make your own example."
   ]
  },
  {
   "cell_type": "markdown",
   "metadata": {
    "application/vnd.databricks.v1+cell": {
     "cellMetadata": {},
     "inputWidgets": {},
     "nuid": "d481bc3d-d28a-4b73-ab9c-50b25efb680c",
     "showTitle": false,
     "tableResultSettingsMap": {},
     "title": ""
    }
   },
   "source": [
    "## 4.5 ANOVA tests (analysis of variance)\n",
    "\n",
    "Python stats module provides a one-way Anova test. The one-way ANOVA tests the null hypothesis that two or more groups have the same population mean (a generalisation of the t-test to more than two samples). The test is applied to samples from two or more groups, possibly with differing sizes. \n",
    "\n",
    "Please read the documentation about assumptions before using it: \n",
    "https://docs.scipy.org/doc/scipy/reference/generated/scipy.stats.f_oneway.html#scipy.stats.f_oneway"
   ]
  },
  {
   "cell_type": "code",
   "execution_count": 0,
   "metadata": {
    "application/vnd.databricks.v1+cell": {
     "cellMetadata": {},
     "inputWidgets": {},
     "nuid": "5525bb35-3a2b-469c-be8b-c7051c44080b",
     "showTitle": false,
     "tableResultSettingsMap": {},
     "title": ""
    }
   },
   "outputs": [],
   "source": [
    "f, p_value = stats.f_oneway(df_setosa['swidth'][0:10],df_setosa['swidth'][10:20],df_setosa['swidth'][20:30])\n",
    "p_value"
   ]
  },
  {
   "cell_type": "code",
   "execution_count": 0,
   "metadata": {
    "application/vnd.databricks.v1+cell": {
     "cellMetadata": {},
     "inputWidgets": {},
     "nuid": "f6d536c1-c5ba-4baf-b0c3-8978b534618f",
     "showTitle": false,
     "tableResultSettingsMap": {},
     "title": ""
    }
   },
   "outputs": [],
   "source": [
    "f, p_value = stats.f_oneway(df_setosa['swidth'],df_virginica['swidth'])\n",
    "p_value"
   ]
  },
  {
   "cell_type": "markdown",
   "metadata": {
    "application/vnd.databricks.v1+cell": {
     "cellMetadata": {},
     "inputWidgets": {},
     "nuid": "532c7d76-8bd9-403a-ae82-5dcb3a84593c",
     "showTitle": false,
     "tableResultSettingsMap": {},
     "title": ""
    }
   },
   "source": [
    "In last example on assumption is not fulfilled. "
   ]
  },
  {
   "cell_type": "markdown",
   "metadata": {
    "application/vnd.databricks.v1+cell": {
     "cellMetadata": {},
     "inputWidgets": {},
     "nuid": "3fa89c77-c534-44d1-adfc-59d30306597f",
     "showTitle": false,
     "tableResultSettingsMap": {},
     "title": ""
    }
   },
   "source": [
    "### Beyond one-way ANOVA\n",
    "\n",
    "There are examples and code for two-way, three-way and four-way etc ANOVA out there. We don't have the time to discuss them to practise them today. You can do this example if you like (maybe with Iris data):\n",
    "\n",
    "http://www.pybloggers.com/2016/03/three-ways-to-do-a-two-way-anova-with-python/"
   ]
  },
  {
   "cell_type": "code",
   "execution_count": 0,
   "metadata": {
    "application/vnd.databricks.v1+cell": {
     "cellMetadata": {},
     "inputWidgets": {},
     "nuid": "8f0c81cf-a207-4c98-9ede-93b8311299b6",
     "showTitle": false,
     "tableResultSettingsMap": {},
     "title": ""
    }
   },
   "outputs": [],
   "source": [
    "from statsmodels.stats.anova import anova_lm"
   ]
  },
  {
   "cell_type": "markdown",
   "metadata": {
    "application/vnd.databricks.v1+cell": {
     "cellMetadata": {},
     "inputWidgets": {},
     "nuid": "892da200-9e6b-4e9a-a52b-d5525aef9561",
     "showTitle": false,
     "tableResultSettingsMap": {},
     "title": ""
    }
   },
   "source": [
    "## 4.5 Final important words "
   ]
  },
  {
   "cell_type": "markdown",
   "metadata": {
    "application/vnd.databricks.v1+cell": {
     "cellMetadata": {},
     "inputWidgets": {},
     "nuid": "050d961d-1179-48aa-85b1-940849c7dcfa",
     "showTitle": false,
     "tableResultSettingsMap": {},
     "title": ""
    }
   },
   "source": [
    "If you are in doubt about your results because you think you have too little data or strangely distributed data you should/could:\n",
    "\n",
    "- Check by using another tool and see if there are changes in the results\n",
    "- Manipulate your (test) data (by adding/changing artifical datapoints etc) and study the effect on the result\n",
    "\n",
    "In the end you should enable people to interprete your results in a correct way and come to the same conclusions as you. So your results should be reproducible within the uncertainties you state."
   ]
  }
 ],
 "metadata": {
  "application/vnd.databricks.v1+notebook": {
   "computePreferences": null,
   "dashboards": [],
   "environmentMetadata": null,
   "inputWidgetPreferences": null,
   "language": "python",
   "notebookMetadata": {},
   "notebookName": "CAS-D3-Hypothesis-Testing",
   "widgets": {}
  },
  "kernelspec": {
   "display_name": "Python 3",
   "language": "python",
   "name": "python3"
  },
  "language_info": {
   "name": "python"
  }
 },
 "nbformat": 4,
 "nbformat_minor": 0
}
