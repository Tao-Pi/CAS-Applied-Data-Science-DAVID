{
 "cells": [
  {
   "cell_type": "markdown",
   "metadata": {
    "application/vnd.databricks.v1+cell": {
     "cellMetadata": {
      "byteLimit": 2048000,
      "rowLimit": 10000
     },
     "inputWidgets": {},
     "nuid": "c080c799-037f-45b0-bdee-d0989464b187",
     "showTitle": false,
     "tableResultSettingsMap": {},
     "title": ""
    }
   },
   "source": [
    "\n",
    "# 1. Data reading"
   ]
  },
  {
   "cell_type": "markdown",
   "metadata": {
    "application/vnd.databricks.v1+cell": {
     "cellMetadata": {
      "byteLimit": 2048000,
      "rowLimit": 10000
     },
     "inputWidgets": {},
     "nuid": "2bdeba03-50eb-426b-8ed6-22da94d9fa64",
     "showTitle": false,
     "tableResultSettingsMap": {},
     "title": ""
    }
   },
   "source": [
    "reading the \"Pigments\" Dataset, provided in an emial"
   ]
  },
  {
   "cell_type": "markdown",
   "metadata": {
    "application/vnd.databricks.v1+cell": {
     "cellMetadata": {
      "byteLimit": 2048000,
      "rowLimit": 10000
     },
     "inputWidgets": {},
     "nuid": "dd906017-bc3c-403e-9833-dcd189b447bc",
     "showTitle": false,
     "tableResultSettingsMap": {},
     "title": ""
    }
   },
   "source": [
    "First load the libraries / modules."
   ]
  },
  {
   "cell_type": "code",
   "execution_count": 0,
   "metadata": {
    "application/vnd.databricks.v1+cell": {
     "cellMetadata": {
      "byteLimit": 2048000,
      "rowLimit": 10000
     },
     "inputWidgets": {},
     "nuid": "05ff6b26-c729-4827-963e-21120b6c47ca",
     "showTitle": false,
     "tableResultSettingsMap": {},
     "title": ""
    }
   },
   "outputs": [],
   "source": [
    "# Load the needed python libraries by executing this python code (press ctrl enter)\n",
    "import numpy as np\n",
    "import scipy.stats\n",
    "import matplotlib.pyplot as plt\n",
    "import pandas as pd"
   ]
  },
  {
   "cell_type": "markdown",
   "metadata": {
    "application/vnd.databricks.v1+cell": {
     "cellMetadata": {
      "byteLimit": 2048000,
      "rowLimit": 10000
     },
     "inputWidgets": {},
     "nuid": "e4536435-1a56-4f66-8b81-a8563b0de6ac",
     "showTitle": false,
     "tableResultSettingsMap": {},
     "title": ""
    }
   },
   "source": [
    "Load the dataset into a dataframe."
   ]
  },
  {
   "cell_type": "code",
   "execution_count": 0,
   "metadata": {
    "application/vnd.databricks.v1+cell": {
     "cellMetadata": {
      "byteLimit": 2048000,
      "rowLimit": 10000
     },
     "inputWidgets": {},
     "nuid": "3068ccd4-26ef-487e-ae99-b8958ecce1a4",
     "showTitle": false,
     "tableResultSettingsMap": {},
     "title": ""
    }
   },
   "outputs": [],
   "source": [
    "import pandas as pd\n",
    "\n",
    "# URL zur Datei (GitHub)\n",
    "url = \"https://raw.githubusercontent.com/Tao-Pi/CAS-Applied-Data-Science-DAVID/refs/heads/main/data%2C%20calculations%2C%20results/Pigments_Version202509051820.csv\"\n",
    "\n",
    "# CSV einlesen und leere Zeilen überspringen\n",
    "df = pd.read_csv(url, skip_blank_lines=True)\n",
    "\n",
    "# Ausgabe prüfen\n",
    "print(df.head())\n",
    "print(f\"\\nShape: {df.shape}\")\n"
   ]
  },
  {
   "cell_type": "markdown",
   "metadata": {
    "application/vnd.databricks.v1+cell": {
     "cellMetadata": {
      "byteLimit": 2048000,
      "rowLimit": 10000
     },
     "inputWidgets": {},
     "nuid": "da411ef1-d9b3-4e32-a613-ec6a081d8462",
     "showTitle": false,
     "tableResultSettingsMap": {},
     "title": ""
    }
   },
   "source": [
    "Browse through all rows."
   ]
  },
  {
   "cell_type": "code",
   "execution_count": 0,
   "metadata": {
    "application/vnd.databricks.v1+cell": {
     "cellMetadata": {
      "byteLimit": 2048000,
      "rowLimit": 10000
     },
     "inputWidgets": {},
     "nuid": "cda211cc-aabe-485f-ae3b-7f23c2c1ffd4",
     "showTitle": false,
     "tableResultSettingsMap": {},
     "title": ""
    }
   },
   "outputs": [],
   "source": [
    "pd.set_option('display.max_rows', 200)\n",
    "df"
   ]
  },
  {
   "cell_type": "markdown",
   "metadata": {
    "application/vnd.databricks.v1+cell": {
     "cellMetadata": {
      "byteLimit": 2048000,
      "rowLimit": 10000
     },
     "inputWidgets": {},
     "nuid": "fc8ffbb7-e0f1-4165-bb2f-02e0d08e4a47",
     "showTitle": false,
     "tableResultSettingsMap": {},
     "title": ""
    }
   },
   "source": [
    "change col names to more descriptive names"
   ]
  },
  {
   "cell_type": "code",
   "execution_count": 0,
   "metadata": {
    "application/vnd.databricks.v1+cell": {
     "cellMetadata": {
      "byteLimit": 2048000,
      "rowLimit": 10000
     },
     "inputWidgets": {},
     "nuid": "e3f264db-86e5-48e9-ae92-b028b421a3e8",
     "showTitle": false,
     "tableResultSettingsMap": {},
     "title": ""
    }
   },
   "outputs": [],
   "source": [
    "df.rename(columns={\n",
    "    'name': 'sample',\n",
    "    'RABD670': 'green pigments: index',\n",
    "    'TChl-a': 'green pigments: direct concentration measurement (ug/g)',\n",
    "    'locality': 'locality',\n",
    "    'OC': 'organic carbon content in %'\n",
    "}, inplace=True)\n",
    "df"
   ]
  },
  {
   "cell_type": "markdown",
   "metadata": {
    "application/vnd.databricks.v1+cell": {
     "cellMetadata": {
      "byteLimit": 2048000,
      "rowLimit": 10000
     },
     "inputWidgets": {},
     "nuid": "dee6572e-daef-43ad-b64b-7ac98c99c735",
     "showTitle": false,
     "tableResultSettingsMap": {},
     "title": ""
    }
   },
   "source": [
    "Print some descriptive statistics, using pandas summary."
   ]
  },
  {
   "cell_type": "code",
   "execution_count": 0,
   "metadata": {
    "application/vnd.databricks.v1+cell": {
     "cellMetadata": {
      "byteLimit": 2048000,
      "rowLimit": 10000
     },
     "inputWidgets": {},
     "nuid": "d4af46b6-6c39-4a8c-85c0-97e0d07705f2",
     "showTitle": false,
     "tableResultSettingsMap": {},
     "title": ""
    }
   },
   "outputs": [],
   "source": [
    "df.describe()"
   ]
  },
  {
   "cell_type": "markdown",
   "metadata": {
    "application/vnd.databricks.v1+cell": {
     "cellMetadata": {
      "byteLimit": 2048000,
      "rowLimit": 10000
     },
     "inputWidgets": {},
     "nuid": "5dc50b6e-9ad4-4d12-bafe-28d3f99214ec",
     "showTitle": false,
     "tableResultSettingsMap": {},
     "title": ""
    }
   },
   "source": [
    "# 02 Descriptive Stats"
   ]
  },
  {
   "cell_type": "code",
   "execution_count": 0,
   "metadata": {
    "application/vnd.databricks.v1+cell": {
     "cellMetadata": {
      "byteLimit": 2048000,
      "rowLimit": 10000
     },
     "inputWidgets": {},
     "nuid": "bb5d7f9b-d37c-453e-a5bb-94707e975d6e",
     "showTitle": false,
     "tableResultSettingsMap": {},
     "title": ""
    }
   },
   "outputs": [],
   "source": [
    "# === Descriptive statistics & plots for:\n",
    "#     - \"green pigments: index\"\n",
    "#     - \"green pigments: direct concentration measurement (ug/g)\"\n",
    "# Append this block AFTER your df.rename(...) and df.describe().\n",
    "\n",
    "from scipy import stats  # already imported as scipy.stats; this just gives 'stats' alias if needed\n",
    "\n",
    "# Column aliases (matches your renamed columns)\n",
    "col_x = \"green pigments: index\"\n",
    "col_y = \"green pigments: direct concentration measurement (ug/g)\"\n",
    "\n",
    "# Pairwise-clean data\n",
    "df_pair = df.dropna(subset=[col_x, col_y]).copy()\n",
    "\n",
    "# ---------- Descriptive statistics ----------\n",
    "def describe_series(s: pd.Series) -> pd.Series:\n",
    "    s_clean = s.dropna()\n",
    "    out = pd.Series(dtype=\"float64\")\n",
    "    out[\"count\"] = s_clean.shape[0]\n",
    "    out[\"missing\"] = s.shape[0] - s_clean.shape[0]\n",
    "    out[\"missing_%\"] = 100 * (1 - s_clean.shape[0] / s.shape[0]) if s.shape[0] else float(\"nan\")\n",
    "    out[\"mean\"] = s_clean.mean()\n",
    "    out[\"std\"] = s_clean.std(ddof=1)\n",
    "    out[\"cv (std/mean)\"] = (out[\"std\"] / out[\"mean\"]) if out[\"mean\"] not in (0, None) else float(\"nan\")\n",
    "    out[\"min\"] = s_clean.min()\n",
    "    out[\"q1\"] = s_clean.quantile(0.25)\n",
    "    out[\"median\"] = s_clean.median()\n",
    "    out[\"q3\"] = s_clean.quantile(0.75)\n",
    "    out[\"iqr\"] = out[\"q3\"] - out[\"q1\"]\n",
    "    out[\"max\"] = s_clean.max()\n",
    "    out[\"skewness\"] = stats.skew(s_clean, bias=False)\n",
    "    out[\"kurtosis (excess)\"] = stats.kurtosis(s_clean, fisher=True, bias=False)\n",
    "    if 3 <= len(s_clean) <= 5000:\n",
    "        W, p = stats.shapiro(s_clean)\n",
    "        out[\"shapiro_W\"] = W\n",
    "        out[\"shapiro_p\"] = p\n",
    "    else:\n",
    "        out[\"shapiro_W\"] = float(\"nan\")\n",
    "        out[\"shapiro_p\"] = float(\"nan\")\n",
    "    return out\n",
    "\n",
    "desc_table = pd.DataFrame({\n",
    "    col_x: describe_series(df[col_x]),\n",
    "    col_y: describe_series(df[col_y]),\n",
    "})\n",
    "print(\"\\n=== Descriptive statistics ===\")\n",
    "print(desc_table.round(4))\n",
    "\n",
    "# ---------- Correlation tests ----------\n",
    "pearson_r, pearson_p = stats.pearsonr(df_pair[col_x], df_pair[col_y])\n",
    "spearman_r, spearman_p = stats.spearmanr(df_pair[col_x], df_pair[col_y])\n",
    "kendall_tau, kendall_p = stats.kendalltau(df_pair[col_x], df_pair[col_y])\n",
    "\n",
    "corr_tbl = pd.DataFrame(\n",
    "    {\n",
    "        \"statistic\": [\"Pearson r\", \"Spearman ρ\", \"Kendall τ\"],\n",
    "        \"value\": [pearson_r, spearman_r, kendall_tau],\n",
    "        \"p_value\": [pearson_p, spearman_p, kendall_p],\n",
    "    }\n",
    ")\n",
    "print(\"\\n=== Correlation tests (pairwise complete) ===\")\n",
    "print(corr_tbl.round(6))\n",
    "\n",
    "\n"
   ]
  },
  {
   "cell_type": "code",
   "execution_count": 0,
   "metadata": {
    "application/vnd.databricks.v1+cell": {
     "cellMetadata": {
      "byteLimit": 2048000,
      "rowLimit": 10000
     },
     "inputWidgets": {},
     "nuid": "b6da0bf2-d91c-41b8-b307-6f22e28994f7",
     "showTitle": false,
     "tableResultSettingsMap": {},
     "title": ""
    }
   },
   "outputs": [],
   "source": [
    "# === Plot 01: Histogram and box plot for the measures of pigments\n",
    "#     (Index and Direct concentration measurement of green pigments (µg/g)) in different samples\n",
    "\n",
    "# cm to inches conversion\n",
    "cm_to_inch = 1/2.54\n",
    "fig_width = 24.2 * cm_to_inch\n",
    "fig_height = 10.08 * cm_to_inch\n",
    "\n",
    "fig, axes = plt.subplots(2, 2, figsize=(fig_width, fig_height))\n",
    "fig.suptitle(\n",
    "    \"Plot 01: Histogram and box plot for the measures of pigments\\n\"\n",
    "    \"(Index and Direct concentration measurement of green pigments (µg/g)) in different samples\",\n",
    "    fontsize=11,\n",
    "    weight=\"bold\"\n",
    ")\n",
    "\n",
    "col_x = \"green pigments: index\"\n",
    "col_y = \"green pigments: direct concentration measurement (ug/g)\"\n",
    "\n",
    "# Histogram for index\n",
    "axes[0,0].hist(df[col_x].dropna(), bins=20)\n",
    "axes[0,0].set_title(\"Histogram: Green pigments index\", fontsize=9)\n",
    "axes[0,0].set_xlabel(col_x, fontsize=8)\n",
    "axes[0,0].set_ylabel(\"Frequency\", fontsize=8)\n",
    "\n",
    "# Boxplot for index\n",
    "axes[1,0].boxplot(df[col_x].dropna(), vert=True)\n",
    "axes[1,0].set_title(\"Boxplot: Green pigments index\", fontsize=9)\n",
    "axes[1,0].set_ylabel(col_x, fontsize=8)\n",
    "\n",
    "# Histogram for direct concentration\n",
    "axes[0,1].hist(df[col_y].dropna(), bins=20)\n",
    "axes[0,1].set_title(\"Histogram: Direct chlorophyll concentration (µg/g)\", fontsize=9)\n",
    "axes[0,1].set_xlabel(col_y, fontsize=8)\n",
    "axes[0,1].set_ylabel(\"Frequency\", fontsize=8)\n",
    "\n",
    "# Boxplot for direct concentration\n",
    "axes[1,1].boxplot(df[col_y].dropna(), vert=True)\n",
    "axes[1,1].set_title(\"Boxplot: Direct chlorophyll concentration (µg/g)\", fontsize=9)\n",
    "axes[1,1].set_ylabel(col_y, fontsize=8)\n",
    "\n",
    "plt.tight_layout(rect=[0, 0.05, 1, 0.95])\n",
    "plt.show()\n"
   ]
  },
  {
   "cell_type": "markdown",
   "metadata": {
    "application/vnd.databricks.v1+cell": {
     "cellMetadata": {
      "byteLimit": 2048000,
      "rowLimit": 10000
     },
     "inputWidgets": {},
     "nuid": "a3fd7e2d-e362-4f60-a685-e95a9b9899df",
     "showTitle": false,
     "tableResultSettingsMap": {},
     "title": ""
    }
   },
   "source": [
    "# Hypotheses\n",
    "# \n",
    "**H₀ (Null Hypothesis)**: The green pigment index and the direct chlorophyll concentration are not correlated.\n",
    "\n",
    "**H₁ (Alternative Hypothesis)**: There is a statistically significant correlation between the pigment index and the direct chlorophyll concentration."
   ]
  },
  {
   "cell_type": "code",
   "execution_count": 0,
   "metadata": {
    "application/vnd.databricks.v1+cell": {
     "cellMetadata": {
      "byteLimit": 2048000,
      "rowLimit": 10000
     },
     "inputWidgets": {},
     "nuid": "6fab83d6-0541-4e8d-bc1f-c6255a11e49d",
     "showTitle": false,
     "tableResultSettingsMap": {},
     "title": ""
    }
   },
   "outputs": [],
   "source": [
    "import scipy.stats as stats# Drop missing values for the test\n",
    "\n",
    "df_clean = df.dropna(subset=[\n",
    "    \"green pigments: index\",\n",
    "    \"green pigments: direct concentration measurement (ug/g)\"\n",
    "])\n",
    "\n",
    "# Define variables\n",
    "x = df_clean[\"green pigments: index\"]\n",
    "y = df_clean[\"green pigments: direct concentration measurement (ug/g)\"]\n",
    "\n",
    "# Hypothesis test: Pearson correlation\n",
    "corr, p_value = stats.pearsonr(x, y)\n",
    "\n",
    "print(\"Pearson correlation coefficient:\", corr)\n",
    "print(\"p-value:\", p_value)\n",
    "\n",
    "# Interpret the result\n",
    "alpha = 0.05\n",
    "if p_value < alpha:\n",
    "    print(\"Reject H0: There is a significant correlation.\")\n",
    "else:\n",
    "    print(\"Fail to reject H0: No significant correlation.\")\n",
    "\n",
    "# Visualization\n",
    "plt.scatter(x, y, alpha=0.7)\n",
    "plt.xlabel(\"index\")\n",
    "plt.ylabel(\"direct concentration measurement (µg/g)\")\n",
    "plt.title(\"Relationship between pigment index and direct concentration measurement\")\n",
    "\n",
    "# Add regression line\n",
    "slope, intercept, r_value, p_val, std_err = stats.linregress(x, y)\n",
    "plt.plot(x, slope*x + intercept, color=\"red\", label=f\"Linear fit (R²={r_value**2:.2f})\")\n",
    "plt.legend()\n",
    "plt.show()"
   ]
  }
 ],
 "metadata": {
  "application/vnd.databricks.v1+notebook": {
   "computePreferences": null,
   "dashboards": [],
   "environmentMetadata": null,
   "inputWidgetPreferences": null,
   "language": "python",
   "notebookMetadata": {
    "pythonIndentUnit": 4
   },
   "notebookName": "01 - data reading, -cleaning  and description",
   "widgets": {}
  },
  "kernelspec": {
   "display_name": "Python 3",
   "language": "python",
   "name": "python3"
  },
  "language_info": {
   "name": "python"
  }
 },
 "nbformat": 4,
 "nbformat_minor": 0
}
